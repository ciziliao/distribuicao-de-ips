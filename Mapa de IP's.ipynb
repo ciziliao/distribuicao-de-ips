{
 "cells": [
  {
   "cell_type": "code",
   "execution_count": 1,
   "id": "5ab426d3-8e17-4585-86d4-0ddad97e7ed7",
   "metadata": {
    "tags": []
   },
   "outputs": [],
   "source": [
    "import plotly.express as px\n",
    "import numpy as np\n",
    "import pandas as pd"
   ]
  },
  {
   "cell_type": "code",
   "execution_count": 4,
   "id": "4a874ff3-aa68-4574-8afc-44374c786f0f",
   "metadata": {
    "tags": []
   },
   "outputs": [],
   "source": [
    "df = pd.read_csv('merged_df (1).csv')"
   ]
  },
  {
   "cell_type": "code",
   "execution_count": 7,
   "id": "3fd22622-aaed-4d81-bc02-8973477c1858",
   "metadata": {
    "tags": []
   },
   "outputs": [],
   "source": [
    "# Criar um gráfico de dispersão geográfico usando Plotly\n",
    "fig = px.scatter_geo(df,\n",
    "                     lat='latitude',\n",
    "                     lon='longitude',\n",
    "                     color='ip_address',\n",
    "                     hover_name='owner',\n",
    "                     projection='natural earth',\n",
    "                     title='Geomap using Plotly',\n",
    "                     )"
   ]
  },
  {
   "cell_type": "code",
   "execution_count": 8,
   "id": "7c8b1618-37a8-4c3c-a0a1-99215ca84123",
   "metadata": {
    "tags": []
   },
   "outputs": [
    {
     "data": {
      "application/vnd.plotly.v1+json": {
       "config": {
        "plotlyServerURL": "https://plot.ly"
       },
       "data": [
        {
         "geo": "geo",
         "hovertemplate": "<b>%{hovertext}</b><br><br>ip_address=1.0.0.1<br>latitude=%{lat}<br>longitude=%{lon}<extra></extra>",
         "hovertext": [
          "CloudFlare Inc.",
          "CloudFlare Inc.",
          "CloudFlare Inc.",
          "CloudFlare Inc.",
          "CloudFlare Inc.",
          "CloudFlare Inc.",
          "CloudFlare Inc.",
          "CloudFlare Inc.",
          "CloudFlare Inc.",
          "CloudFlare Inc.",
          "CloudFlare Inc.",
          "CloudFlare Inc.",
          "CloudFlare Inc.",
          "CloudFlare Inc.",
          "CloudFlare Inc.",
          "CloudFlare Inc.",
          "CloudFlare Inc.",
          "CloudFlare Inc.",
          "CloudFlare Inc.",
          "CloudFlare Inc.",
          "CloudFlare Inc.",
          "CloudFlare Inc.",
          "CloudFlare Inc.",
          "CloudFlare Inc.",
          "CloudFlare Inc.",
          "CloudFlare Inc.",
          "CloudFlare Inc.",
          "CloudFlare Inc.",
          "CloudFlare Inc.",
          "CloudFlare Inc.",
          "CloudFlare Inc.",
          "CloudFlare Inc.",
          "CloudFlare Inc.",
          "CloudFlare Inc.",
          "CloudFlare Inc.",
          "CloudFlare Inc.",
          "CloudFlare Inc.",
          "CloudFlare Inc.",
          "CloudFlare Inc.",
          "CloudFlare Inc.",
          "CloudFlare Inc.",
          "CloudFlare Inc.",
          "CloudFlare Inc.",
          "CloudFlare Inc.",
          "CloudFlare Inc.",
          "CloudFlare Inc.",
          "CloudFlare Inc.",
          "CloudFlare Inc.",
          "CloudFlare Inc.",
          "CloudFlare Inc.",
          "CloudFlare Inc.",
          "CloudFlare Inc.",
          "CloudFlare Inc.",
          "CloudFlare Inc.",
          "CloudFlare Inc.",
          "CloudFlare Inc.",
          "CloudFlare Inc.",
          "CloudFlare Inc.",
          "CloudFlare Inc.",
          "CloudFlare Inc.",
          "CloudFlare Inc."
         ],
         "lat": [
          9.9570503235,
          32.1147003174,
          40.1473007202,
          23.5932998657,
          -33.9648017883,
          -22.0146007538,
          37.5583000183,
          25.7931995392,
          41.2971000671,
          44.8819999695,
          37.62189865,
          45.6795005798,
          49.0127983093,
          25.0776996613,
          47.5299987793,
          17.2313175201,
          -26.2425003052,
          -18.7968997955,
          19.0886993408,
          33.94250107,
          63.9850006104,
          53.8824996948,
          8.4821195602,
          49.9099998474,
          -12.021900177,
          -8.8583698273,
          54.6341018677,
          50.8658981323,
          47.4812134,
          -37.0080986023,
          -33.3930015564,
          -22.9104995728,
          47.8431015015,
          1.3604199886,
          10.6031169891,
          45.445098877,
          60.193901062,
          -20.4302005768,
          40.7883987427,
          -29.7705993652,
          21.3187007904,
          22.308889,
          -2.15741992,
          -31.9402999878,
          33.2625007629,
          38.2924003601,
          5.937210083,
          56.7430992126,
          40.9768981934,
          -34.9449996948,
          40.63980103,
          35.5522994995,
          -27.4702796,
          59.8003005981,
          -34.5592,
          55.4087982178,
          -41.3272018433,
          13.9125995636,
          -6.1255698204,
          19.4363002777,
          41.7859992981
         ],
         "legendgroup": "1.0.0.1",
         "lon": [
          -84.1398010254,
          34.7821998596,
          44.3959007263,
          58.2844009399,
          18.6016998291,
          166.2129974365,
          126.791000366,
          -80.2906036377,
          2.0784599781,
          -93.2218017578,
          -97.26820374,
          -74.0386962891,
          2.5499999523,
          121.233001709,
          -122.3020019531,
          78.4298553467,
          28.1511993408,
          47.4788017273,
          72.8678970337,
          -118.4079971,
          -22.6056003571,
          28.0307006836,
          76.9200973511,
          -97.2398986816,
          -77.1143035889,
          13.2312002182,
          25.2858009338,
          7.1427397728,
          19.1303031,
          174.792007446,
          -70.7857971191,
          -43.1631011963,
          106.766998291,
          103.9100036621,
          -66.9905853271,
          9.2767400742,
          11.100399971,
          57.6836013794,
          -111.9779968262,
          31.0583992004,
          -157.9219970703,
          113.914722,
          -79.8835983276,
          115.9670028687,
          44.2346000671,
          27.156999588,
          116.0510025024,
          60.8027000427,
          28.8145999908,
          138.5310058594,
          -73.77890015,
          139.7799987793,
          153.023036,
          30.2625007629,
          -58.4156,
          37.9062995911,
          174.804992676,
          100.607002258,
          106.65599823,
          -99.0720977783,
          -87.7524032593
         ],
         "marker": {
          "color": "#636efa",
          "symbol": "circle"
         },
         "mode": "markers",
         "name": "1.0.0.1",
         "showlegend": true,
         "type": "scattergeo"
        },
        {
         "geo": "geo",
         "hovertemplate": "<b>%{hovertext}</b><br><br>ip_address=1.1.1.1<br>latitude=%{lat}<br>longitude=%{lon}<extra></extra>",
         "hovertext": [
          "CloudFlare Inc.",
          "CloudFlare Inc.",
          "CloudFlare Inc.",
          "CloudFlare Inc.",
          "CloudFlare Inc.",
          "CloudFlare Inc.",
          "CloudFlare Inc.",
          "CloudFlare Inc.",
          "CloudFlare Inc.",
          "CloudFlare Inc.",
          "CloudFlare Inc.",
          "CloudFlare Inc.",
          "CloudFlare Inc.",
          "CloudFlare Inc.",
          "CloudFlare Inc.",
          "CloudFlare Inc.",
          "CloudFlare Inc.",
          "CloudFlare Inc.",
          "CloudFlare Inc.",
          "CloudFlare Inc.",
          "CloudFlare Inc.",
          "CloudFlare Inc.",
          "CloudFlare Inc.",
          "CloudFlare Inc.",
          "CloudFlare Inc.",
          "CloudFlare Inc.",
          "CloudFlare Inc.",
          "CloudFlare Inc.",
          "CloudFlare Inc.",
          "CloudFlare Inc.",
          "CloudFlare Inc.",
          "CloudFlare Inc.",
          "CloudFlare Inc.",
          "CloudFlare Inc.",
          "CloudFlare Inc.",
          "CloudFlare Inc.",
          "CloudFlare Inc.",
          "CloudFlare Inc.",
          "CloudFlare Inc.",
          "CloudFlare Inc.",
          "CloudFlare Inc.",
          "CloudFlare Inc.",
          "CloudFlare Inc.",
          "CloudFlare Inc.",
          "CloudFlare Inc.",
          "CloudFlare Inc.",
          "CloudFlare Inc.",
          "CloudFlare Inc.",
          "CloudFlare Inc.",
          "CloudFlare Inc.",
          "CloudFlare Inc.",
          "CloudFlare Inc.",
          "CloudFlare Inc.",
          "CloudFlare Inc.",
          "CloudFlare Inc.",
          "CloudFlare Inc.",
          "CloudFlare Inc.",
          "CloudFlare Inc.",
          "CloudFlare Inc."
         ],
         "lat": [
          9.9570503235,
          25.7931995392,
          32.1147003174,
          -33.9648017883,
          49.0127983093,
          40.1473007202,
          -22.0146007538,
          37.5583000183,
          23.5932998657,
          44.8819999695,
          41.2971000671,
          33.94250107,
          -25.4050998688,
          45.6795005798,
          25.0776996613,
          37.62189865,
          17.2313175201,
          -18.7968997955,
          19.0886993408,
          53.8824996948,
          47.8431015015,
          63.9850006104,
          8.4821195602,
          49.9099998474,
          -26.2425003052,
          -8.8583698273,
          50.8658981323,
          -12.021900177,
          -37.0080986023,
          47.4812134,
          -22.9104995728,
          -33.3930015564,
          10.6031169891,
          45.445098877,
          1.3604199886,
          60.193901062,
          40.7883987427,
          21.3187007904,
          -20.4302005768,
          -29.7705993652,
          22.308889,
          -31.9402999878,
          33.2625007629,
          38.2924003601,
          56.7430992126,
          40.9768981934,
          40.63980103,
          49.0741996765,
          3.54322,
          -34.9449996948,
          -27.4702796,
          -34.5592,
          55.4087982178,
          59.8003005981,
          50.3450012207,
          35.5522994995,
          13.9125995636,
          19.4363002777,
          41.7859992981
         ],
         "legendgroup": "1.1.1.1",
         "lon": [
          -84.1398010254,
          -80.2906036377,
          34.7821998596,
          18.6016998291,
          2.5499999523,
          44.3959007263,
          166.2129974365,
          126.791000366,
          58.2844009399,
          -93.2218017578,
          2.0784599781,
          -118.4079971,
          -49.2319984436,
          -74.0386962891,
          121.233001709,
          -97.26820374,
          78.4298553467,
          47.4788017273,
          72.8678970337,
          28.0307006836,
          106.766998291,
          -22.6056003571,
          76.9200973511,
          -97.2398986816,
          28.1511993408,
          13.2312002182,
          7.1427397728,
          -77.1143035889,
          174.792007446,
          19.1303031,
          -43.1631011963,
          -70.7857971191,
          -66.9905853271,
          9.2767400742,
          103.9100036621,
          11.100399971,
          -111.9779968262,
          -157.9219970703,
          57.6836013794,
          31.0583992004,
          113.914722,
          115.9670028687,
          44.2346000671,
          27.156999588,
          60.8027000427,
          28.8145999908,
          -73.77890015,
          -123.012001038,
          -76.3816,
          138.5310058594,
          153.023036,
          -58.4156,
          37.9062995911,
          30.2625007629,
          30.8946990967,
          139.7799987793,
          100.607002258,
          -99.0720977783,
          -87.7524032593
         ],
         "marker": {
          "color": "#EF553B",
          "symbol": "circle"
         },
         "mode": "markers",
         "name": "1.1.1.1",
         "showlegend": true,
         "type": "scattergeo"
        },
        {
         "geo": "geo",
         "hovertemplate": "<b>%{hovertext}</b><br><br>ip_address=149.112.112.112<br>latitude=%{lat}<br>longitude=%{lon}<extra></extra>",
         "hovertext": [
          "Quad9",
          "Quad9",
          "Quad9",
          "Quad9",
          "Quad9",
          "Quad9",
          "Quad9",
          "Quad9",
          "Quad9",
          "Quad9",
          "Quad9",
          "Quad9",
          "Quad9",
          "Quad9",
          "Quad9",
          "Quad9",
          "Quad9",
          "Quad9",
          "Quad9",
          "Quad9",
          "Quad9",
          "Quad9",
          "Quad9",
          "Quad9",
          "Quad9",
          "Quad9",
          "Quad9",
          "Quad9",
          "Quad9",
          "Quad9",
          "Quad9",
          "Quad9",
          "Quad9",
          "Quad9",
          "Quad9",
          "Quad9",
          "Quad9",
          "Quad9",
          "Quad9",
          "Quad9",
          "Quad9",
          "Quad9",
          "Quad9",
          "Quad9",
          "Quad9",
          "Quad9",
          "Quad9",
          "Quad9",
          "Quad9"
         ],
         "lat": [
          25.0695,
          25.7931995392,
          47.5299987793,
          33.94250107,
          51.5052986145,
          44.8819999695,
          -6.8780555556,
          37.0775,
          49.0127983093,
          -25.2399997711,
          -4.3857498169,
          40.1473007202,
          41.2971000671,
          -33.3930015564,
          9.9570503235,
          24.9575996399,
          -26.2425003052,
          51.113899231,
          15.5895004272,
          -12.021900177,
          -4.0348300934,
          23.843347,
          50.8658981323,
          27.6965999603,
          1.3604199886,
          54.6341018677,
          37.62189865,
          -1.319239974,
          49.9099998474,
          -8.8583698273,
          47.4812134,
          40.7883987427,
          12.3531999588,
          45.445098877,
          33.8208999634,
          -29.7705993652,
          60.193901062,
          3.54322,
          -31.9402999878,
          41.7859992981,
          39.717300415,
          -22.6505,
          -34.5592,
          40.63980103,
          35.5522994995,
          -33.9244003296,
          19.0886993408,
          14.508600235,
          22.308889
         ],
         "legendgroup": "149.112.112.112",
         "lon": [
          121.5785,
          -80.2906036377,
          -122.3020019531,
          -118.4079971,
          0.0552779995,
          -93.2218017578,
          39.2033333333,
          -113.6095,
          2.5499999523,
          -57.5200004578,
          15.4446001053,
          44.3959007263,
          2.0784599781,
          -70.7857971191,
          -84.1398010254,
          46.6987991333,
          28.1511993408,
          -114.019996643,
          32.5531997681,
          -77.1143035889,
          39.5942001343,
          90.397783,
          7.1427397728,
          85.3591003418,
          103.9100036621,
          25.2858009338,
          -97.26820374,
          36.9277992249,
          -97.2398986816,
          13.2312002182,
          19.1303031,
          -111.9779968262,
          -1.5124200583,
          9.2767400742,
          35.4883995056,
          31.0583992004,
          11.100399971,
          -76.3816,
          115.9670028687,
          -87.7524032593,
          -86.2944030762,
          14.5285,
          -58.4156,
          -73.77890015,
          139.7799987793,
          150.9880065918,
          72.8678970337,
          121.019996643,
          113.914722
         ],
         "marker": {
          "color": "#00cc96",
          "symbol": "circle"
         },
         "mode": "markers",
         "name": "149.112.112.112",
         "showlegend": true,
         "type": "scattergeo"
        },
        {
         "geo": "geo",
         "hovertemplate": "<b>%{hovertext}</b><br><br>ip_address=9.9.9.9<br>latitude=%{lat}<br>longitude=%{lon}<extra></extra>",
         "hovertext": [
          "Quad9",
          "Quad9",
          "Quad9",
          "Quad9",
          "Quad9",
          "Quad9",
          "Quad9",
          "Quad9",
          "Quad9",
          "Quad9",
          "Quad9",
          "Quad9",
          "Quad9",
          "Quad9",
          "Quad9",
          "Quad9",
          "Quad9",
          "Quad9",
          "Quad9",
          "Quad9",
          "Quad9",
          "Quad9",
          "Quad9",
          "Quad9",
          "Quad9",
          "Quad9",
          "Quad9",
          "Quad9",
          "Quad9",
          "Quad9",
          "Quad9",
          "Quad9",
          "Quad9",
          "Quad9",
          "Quad9",
          "Quad9",
          "Quad9",
          "Quad9",
          "Quad9",
          "Quad9",
          "Quad9",
          "Quad9",
          "Quad9",
          "Quad9",
          "Quad9",
          "Quad9",
          "Quad9"
         ],
         "lat": [
          25.0695,
          25.7931995392,
          47.5299987793,
          40.1473007202,
          -6.8780555556,
          41.2971000671,
          37.0775,
          51.5052986145,
          44.8819999695,
          -25.2399997711,
          -4.3857498169,
          49.0127983093,
          -33.3930015564,
          12.3531999588,
          15.5895004272,
          24.9575996399,
          33.94250107,
          -26.2425003052,
          51.113899231,
          49.9099998474,
          -4.0348300934,
          1.3501900434,
          -12.021900177,
          9.9570503235,
          50.8658981323,
          56.9235992432,
          23.843347,
          -1.319239974,
          47.4812134,
          25.591299057,
          40.7883987427,
          33.8208999634,
          -8.8583698273,
          45.445098877,
          19.0886993408,
          60.193901062,
          35.3931007385,
          -31.9402999878,
          40.9768981934,
          39.717300415,
          -22.6505,
          40.63980103,
          -20.4302005768,
          -34.5592,
          -33.9244003296,
          22.308889,
          14.508600235
         ],
         "legendgroup": "9.9.9.9",
         "lon": [
          121.5785,
          -80.2906036377,
          -122.3020019531,
          44.3959007263,
          39.2033333333,
          2.0784599781,
          -113.6095,
          0.0552779995,
          -93.2218017578,
          -57.5200004578,
          15.4446001053,
          2.5499999523,
          -70.7857971191,
          -1.5124200583,
          32.5531997681,
          46.6987991333,
          -118.4079971,
          28.1511993408,
          -114.019996643,
          -97.2398986816,
          39.5942001343,
          103.9940032959,
          -77.1143035889,
          -84.1398010254,
          7.1427397728,
          23.9710998535,
          90.397783,
          36.9277992249,
          19.1303031,
          85.0879974365,
          -111.9779968262,
          35.4883995056,
          13.2312002182,
          9.2767400742,
          72.8678970337,
          11.100399971,
          -97.6007003784,
          115.9670028687,
          28.8145999908,
          -86.2944030762,
          14.5285,
          -73.77890015,
          57.6836013794,
          -58.4156,
          150.9880065918,
          113.914722,
          121.019996643
         ],
         "marker": {
          "color": "#ab63fa",
          "symbol": "circle"
         },
         "mode": "markers",
         "name": "9.9.9.9",
         "showlegend": true,
         "type": "scattergeo"
        },
        {
         "geo": "geo",
         "hovertemplate": "<b>%{hovertext}</b><br><br>ip_address=76.223.122.150<br>latitude=%{lat}<br>longitude=%{lon}<extra></extra>",
         "hovertext": [
          "Amazon.com Inc.",
          "Amazon.com Inc.",
          "Amazon.com Inc.",
          "Amazon.com Inc.",
          "Amazon.com Inc.",
          "Amazon.com Inc.",
          "Amazon.com Inc.",
          "Amazon.com Inc.",
          "Amazon.com Inc.",
          "Amazon.com Inc.",
          "Amazon.com Inc.",
          "Amazon.com Inc.",
          "Amazon.com Inc.",
          "Amazon.com Inc.",
          "Amazon.com Inc.",
          "Amazon.com Inc.",
          "Amazon.com Inc.",
          "Amazon.com Inc.",
          "Amazon.com Inc.",
          "Amazon.com Inc.",
          "Amazon.com Inc.",
          "Amazon.com Inc.",
          "Amazon.com Inc.",
          "Amazon.com Inc.",
          "Amazon.com Inc.",
          "Amazon.com Inc.",
          "Amazon.com Inc.",
          "Amazon.com Inc.",
          "Amazon.com Inc.",
          "Amazon.com Inc.",
          "Amazon.com Inc.",
          "Amazon.com Inc.",
          "Amazon.com Inc.",
          "Amazon.com Inc.",
          "Amazon.com Inc.",
          "Amazon.com Inc.",
          "Amazon.com Inc.",
          "Amazon.com Inc.",
          "Amazon.com Inc.",
          "Amazon.com Inc."
         ],
         "lat": [
          48.9693984985,
          25.7931995392,
          25.1295,
          4.70159,
          47.5299987793,
          38.1759986877,
          37.5583000183,
          26.2707996368,
          12.9900054932,
          -33.9648017883,
          44.8819999695,
          51.5052986145,
          33.94250107,
          45.6795005798,
          44.5722007751,
          25.0776996613,
          8.4821195602,
          -33.4925,
          1.3501900434,
          22.308889,
          19.0886993408,
          47.4812134,
          -37.0080986023,
          -22.9104995728,
          50.8658981323,
          40.7883987427,
          60.193901062,
          34.4272994995,
          -31.9402999878,
          38.2924003601,
          40.4967002869,
          48.3538017273,
          -34.5592,
          41.7859992981,
          40.63980103,
          -26.2425003052,
          55.4087982178,
          59.8003005981,
          19.4363002777,
          29.9843997955
         ],
         "legendgroup": "76.223.122.150",
         "lon": [
          2.4413900375,
          -80.2906036377,
          56.3395,
          -74.1469,
          -122.3020019531,
          13.0909996033,
          126.791000366,
          50.6335983276,
          80.1692962646,
          18.6016998291,
          -93.2218017578,
          0.0552779995,
          -118.4079971,
          -74.0386962891,
          26.1021995544,
          121.233001709,
          76.9200973511,
          143.2115,
          103.9940032959,
          113.914722,
          72.8678970337,
          19.1303031,
          174.792007446,
          -43.1631011963,
          7.1427397728,
          -111.9779968262,
          11.100399971,
          135.2440032959,
          115.9670028687,
          27.156999588,
          -3.4458699226,
          11.7861003876,
          -58.4156,
          -87.7524032593,
          -73.77890015,
          28.1511993408,
          37.9062995911,
          30.2625007629,
          -99.0720977783,
          -95.3414001465
         ],
         "marker": {
          "color": "#FFA15A",
          "symbol": "circle"
         },
         "mode": "markers",
         "name": "76.223.122.150",
         "showlegend": true,
         "type": "scattergeo"
        },
        {
         "geo": "geo",
         "hovertemplate": "<b>%{hovertext}</b><br><br>ip_address=76.76.19.19<br>latitude=%{lat}<br>longitude=%{lon}<extra></extra>",
         "hovertext": [
          "Amazon.com Inc.",
          "Amazon.com Inc.",
          "Amazon.com Inc.",
          "Amazon.com Inc.",
          "Amazon.com Inc.",
          "Amazon.com Inc.",
          "Amazon.com Inc.",
          "Amazon.com Inc.",
          "Amazon.com Inc.",
          "Amazon.com Inc.",
          "Amazon.com Inc.",
          "Amazon.com Inc.",
          "Amazon.com Inc.",
          "Amazon.com Inc.",
          "Amazon.com Inc.",
          "Amazon.com Inc.",
          "Amazon.com Inc.",
          "Amazon.com Inc.",
          "Amazon.com Inc.",
          "Amazon.com Inc.",
          "Amazon.com Inc.",
          "Amazon.com Inc.",
          "Amazon.com Inc.",
          "Amazon.com Inc.",
          "Amazon.com Inc.",
          "Amazon.com Inc.",
          "Amazon.com Inc.",
          "Amazon.com Inc.",
          "Amazon.com Inc.",
          "Amazon.com Inc.",
          "Amazon.com Inc.",
          "Amazon.com Inc.",
          "Amazon.com Inc.",
          "Amazon.com Inc.",
          "Amazon.com Inc.",
          "Amazon.com Inc.",
          "Amazon.com Inc.",
          "Amazon.com Inc.",
          "Amazon.com Inc.",
          "Amazon.com Inc.",
          "Amazon.com Inc.",
          "Amazon.com Inc."
         ],
         "lat": [
          48.9693984985,
          25.1295,
          4.70159,
          25.7931995392,
          38.1759986877,
          26.2707996368,
          47.5299987793,
          12.9900054932,
          37.5583000183,
          -33.9648017883,
          44.8819999695,
          51.5052986145,
          33.94250107,
          44.5722007751,
          25.0776996613,
          45.6795005798,
          -33.4925,
          8.4821195602,
          -37.0080986023,
          19.0886993408,
          -22.9104995728,
          22.308889,
          40.7883987427,
          48.3538017273,
          47.4812134,
          60.193901062,
          -23.6261100769,
          41.2971000671,
          40.63980103,
          34.4272994995,
          -31.9402999878,
          38.2924003601,
          -34.5592,
          -26.2425003052,
          55.4087982178,
          59.8003005981,
          23.843347,
          1.3501900434,
          29.9843997955,
          39.717300415,
          -41.3272018433,
          19.4363002777
         ],
         "legendgroup": "76.76.19.19",
         "lon": [
          2.4413900375,
          56.3395,
          -74.1469,
          -80.2906036377,
          13.0909996033,
          50.6335983276,
          -122.3020019531,
          80.1692962646,
          126.791000366,
          18.6016998291,
          -93.2218017578,
          0.0552779995,
          -118.4079971,
          26.1021995544,
          121.233001709,
          -74.0386962891,
          143.2115,
          76.9200973511,
          174.792007446,
          72.8678970337,
          -43.1631011963,
          113.914722,
          -111.9779968262,
          11.7861003876,
          19.1303031,
          11.100399971,
          -46.6563873291,
          2.0784599781,
          -73.77890015,
          135.2440032959,
          115.9670028687,
          27.156999588,
          -58.4156,
          28.1511993408,
          37.9062995911,
          30.2625007629,
          90.397783,
          103.9940032959,
          -95.3414001465,
          -86.2944030762,
          174.804992676,
          -99.0720977783
         ],
         "marker": {
          "color": "#19d3f3",
          "symbol": "circle"
         },
         "mode": "markers",
         "name": "76.76.19.19",
         "showlegend": true,
         "type": "scattergeo"
        },
        {
         "geo": "geo",
         "hovertemplate": "<b>%{hovertext}</b><br><br>ip_address=208.67.222.222<br>latitude=%{lat}<br>longitude=%{lon}<extra></extra>",
         "hovertext": [
          "Cisco OpenDNS LLC",
          "Cisco OpenDNS LLC",
          "Cisco OpenDNS LLC",
          "Cisco OpenDNS LLC",
          "Cisco OpenDNS LLC",
          "Cisco OpenDNS LLC",
          "Cisco OpenDNS LLC",
          "Cisco OpenDNS LLC",
          "Cisco OpenDNS LLC",
          "Cisco OpenDNS LLC",
          "Cisco OpenDNS LLC",
          "Cisco OpenDNS LLC",
          "Cisco OpenDNS LLC",
          "Cisco OpenDNS LLC",
          "Cisco OpenDNS LLC",
          "Cisco OpenDNS LLC",
          "Cisco OpenDNS LLC",
          "Cisco OpenDNS LLC",
          "Cisco OpenDNS LLC",
          "Cisco OpenDNS LLC",
          "Cisco OpenDNS LLC",
          "Cisco OpenDNS LLC",
          "Cisco OpenDNS LLC",
          "Cisco OpenDNS LLC",
          "Cisco OpenDNS LLC",
          "Cisco OpenDNS LLC"
         ],
         "lat": [
          47.5299987793,
          25.7931995392,
          -33.9648017883,
          49.0127983093,
          -22.8099994659,
          51.5286416,
          -34.2291984558,
          55.6179008484,
          50.8658981323,
          22.308889,
          1.3604199886,
          19.0886993408,
          40.63980103,
          40.4967002869,
          41.799444,
          35.5522994995,
          -26.2425003052,
          41.7859992981,
          55.8782997131,
          47.4812134,
          33.94250107,
          24.7098007202,
          19.4363002777,
          29.9843997955,
          31.636100769,
          -33.9244003296
         ],
         "legendgroup": "208.67.222.222",
         "lon": [
          -122.3020019531,
          -80.2906036377,
          18.6016998291,
          2.5499999523,
          -43.2505569458,
          -0.1015987,
          142.085998535,
          12.6560001373,
          7.1427397728,
          113.914722,
          103.9100036621,
          72.8678970337,
          -73.77890015,
          -3.4458699226,
          12.597222,
          139.7799987793,
          28.1511993408,
          -87.7524032593,
          38.0616989136,
          19.1303031,
          -118.4079971,
          46.7252006531,
          -99.0720977783,
          -95.3414001465,
          -106.4290008545,
          150.9880065918
         ],
         "marker": {
          "color": "#FF6692",
          "symbol": "circle"
         },
         "mode": "markers",
         "name": "208.67.222.222",
         "showlegend": true,
         "type": "scattergeo"
        },
        {
         "geo": "geo",
         "hovertemplate": "<b>%{hovertext}</b><br><br>ip_address=208.67.220.220<br>latitude=%{lat}<br>longitude=%{lon}<extra></extra>",
         "hovertext": [
          "Cisco OpenDNS LLC",
          "Cisco OpenDNS LLC",
          "Cisco OpenDNS LLC",
          "Cisco OpenDNS LLC",
          "Cisco OpenDNS LLC",
          "Cisco OpenDNS LLC",
          "Cisco OpenDNS LLC",
          "Cisco OpenDNS LLC",
          "Cisco OpenDNS LLC",
          "Cisco OpenDNS LLC",
          "Cisco OpenDNS LLC",
          "Cisco OpenDNS LLC",
          "Cisco OpenDNS LLC",
          "Cisco OpenDNS LLC",
          "Cisco OpenDNS LLC",
          "Cisco OpenDNS LLC",
          "Cisco OpenDNS LLC",
          "Cisco OpenDNS LLC",
          "Cisco OpenDNS LLC",
          "Cisco OpenDNS LLC",
          "Cisco OpenDNS LLC",
          "Cisco OpenDNS LLC",
          "Cisco OpenDNS LLC",
          "Cisco OpenDNS LLC",
          "Cisco OpenDNS LLC"
         ],
         "lat": [
          47.5299987793,
          25.7931995392,
          -33.9648017883,
          49.0127983093,
          -22.8099994659,
          51.5286416,
          -34.2291984558,
          50.8658981323,
          1.3604199886,
          22.308889,
          55.6179008484,
          19.0886993408,
          47.4812134,
          40.63980103,
          40.9768981934,
          40.4967002869,
          41.799444,
          -26.2425003052,
          41.7859992981,
          35.5522994995,
          33.94250107,
          29.9843997955,
          24.7098007202,
          31.636100769,
          -33.9244003296
         ],
         "legendgroup": "208.67.220.220",
         "lon": [
          -122.3020019531,
          -80.2906036377,
          18.6016998291,
          2.5499999523,
          -43.2505569458,
          -0.1015987,
          142.085998535,
          7.1427397728,
          103.9100036621,
          113.914722,
          12.6560001373,
          72.8678970337,
          19.1303031,
          -73.77890015,
          28.8145999908,
          -3.4458699226,
          12.597222,
          28.1511993408,
          -87.7524032593,
          139.7799987793,
          -118.4079971,
          -95.3414001465,
          46.7252006531,
          -106.4290008545,
          150.9880065918
         ],
         "marker": {
          "color": "#B6E880",
          "symbol": "circle"
         },
         "mode": "markers",
         "name": "208.67.220.220",
         "showlegend": true,
         "type": "scattergeo"
        },
        {
         "geo": "geo",
         "hovertemplate": "<b>%{hovertext}</b><br><br>ip_address=8.8.4.4<br>latitude=%{lat}<br>longitude=%{lon}<extra></extra>",
         "hovertext": [
          "Google LLC",
          "Google LLC",
          "Google LLC",
          "Google LLC",
          "Google LLC",
          "Google LLC",
          "Google LLC",
          "Google LLC",
          "Google LLC",
          "Google LLC",
          "Google LLC",
          "Google LLC",
          "Google LLC",
          "Google LLC",
          "Google LLC",
          "Google LLC",
          "Google LLC",
          "Google LLC",
          "Google LLC",
          "Google LLC",
          "Google LLC",
          "Google LLC",
          "Google LLC",
          "Google LLC",
          "Google LLC",
          "Google LLC",
          "Google LLC",
          "Google LLC",
          "Google LLC",
          "Google LLC",
          "Google LLC",
          "Google LLC",
          "Google LLC",
          "Google LLC",
          "Google LLC",
          "Google LLC",
          "Google LLC",
          "Google LLC",
          "Google LLC",
          "Google LLC",
          "Google LLC"
         ],
         "lat": [
          25.1295,
          4.70159,
          47.5299987793,
          -33.3930015564,
          25.0776996613,
          51.5052986145,
          25.7931995392,
          49.0127983093,
          45.6795005798,
          32.89860153,
          33.94250107,
          12.9900054932,
          44.2541008,
          -33.4925,
          8.4821195602,
          -22.8099994659,
          -4.0348300934,
          19.0886993408,
          50.8658981323,
          -26.2425003052,
          52.1656990051,
          23.5932998657,
          1.3604199886,
          22.308889,
          -18.7968997955,
          28.6070051,
          47.4812134,
          45.2008018494,
          34.4272994995,
          40.63980103,
          19.4363002777,
          40.9768981934,
          59.8003005981,
          40.4967002869,
          52.5597000122,
          -34.5592,
          41.7859992981,
          29.9843997955,
          31.636100769,
          -33.9244003296,
          6.5773701668
         ],
         "legendgroup": "8.8.4.4",
         "lon": [
          56.3395,
          -74.1469,
          -122.3020019531,
          -70.7857971191,
          121.233001709,
          0.0552779995,
          -80.2906036377,
          2.5499999523,
          -74.0386962891,
          -80.04049683,
          -118.4079971,
          80.1692962646,
          -121.1500015,
          143.2115,
          76.9200973511,
          -43.2505569458,
          39.5942001343,
          72.8678970337,
          7.1427397728,
          28.1511993408,
          20.9671001434,
          58.2844009399,
          103.9100036621,
          113.914722,
          47.4788017273,
          77.2140499,
          19.1303031,
          7.6496300697,
          135.2440032959,
          -73.77890015,
          -99.0720977783,
          28.8145999908,
          30.2625007629,
          -3.4458699226,
          13.2876996994,
          -58.4156,
          -87.7524032593,
          -95.3414001465,
          -106.4290008545,
          150.9880065918,
          3.321160078
         ],
         "marker": {
          "color": "#FF97FF",
          "symbol": "circle"
         },
         "mode": "markers",
         "name": "8.8.4.4",
         "showlegend": true,
         "type": "scattergeo"
        },
        {
         "geo": "geo",
         "hovertemplate": "<b>%{hovertext}</b><br><br>ip_address=8.8.8.8<br>latitude=%{lat}<br>longitude=%{lon}<extra></extra>",
         "hovertext": [
          "Google LLC",
          "Google LLC",
          "Google LLC",
          "Google LLC",
          "Google LLC",
          "Google LLC",
          "Google LLC",
          "Google LLC",
          "Google LLC",
          "Google LLC",
          "Google LLC",
          "Google LLC",
          "Google LLC",
          "Google LLC",
          "Google LLC",
          "Google LLC",
          "Google LLC",
          "Google LLC",
          "Google LLC",
          "Google LLC",
          "Google LLC",
          "Google LLC",
          "Google LLC",
          "Google LLC",
          "Google LLC",
          "Google LLC",
          "Google LLC",
          "Google LLC",
          "Google LLC",
          "Google LLC",
          "Google LLC",
          "Google LLC",
          "Google LLC",
          "Google LLC",
          "Google LLC",
          "Google LLC",
          "Google LLC",
          "Google LLC",
          "Google LLC",
          "Google LLC",
          "Google LLC",
          "Google LLC",
          "Google LLC",
          "Google LLC",
          "Google LLC"
         ],
         "lat": [
          25.1295,
          4.70159,
          47.5299987793,
          33.94250107,
          25.7931995392,
          45.6795005798,
          25.0776996613,
          -33.3930015564,
          32.89860153,
          49.0127983093,
          12.9900054932,
          44.2541008,
          -22.8099994659,
          51.5286416,
          -18.7968997955,
          -4.0348300934,
          8.4821195602,
          50.8658981323,
          47.4812134,
          -26.2425003052,
          23.5932998657,
          1.3604199886,
          -34.2291984558,
          28.6070051,
          19.0886993408,
          52.4510993958,
          45.2008018494,
          -23.6261100769,
          22.308889,
          40.63980103,
          48.5696983337,
          34.4272994995,
          59.8003005981,
          19.4363002777,
          40.9768981934,
          52.5597000122,
          41.8045005798,
          40.4967002869,
          -34.5592,
          29.9843997955,
          43.6274986267,
          41.7859992981,
          31.636100769,
          -33.9244003296,
          6.5773701668
         ],
         "legendgroup": "8.8.8.8",
         "lon": [
          56.3395,
          -74.1469,
          -122.3020019531,
          -118.4079971,
          -80.2906036377,
          -74.0386962891,
          121.233001709,
          -70.7857971191,
          -80.04049683,
          2.5499999523,
          80.1692962646,
          -121.1500015,
          -43.2505569458,
          -0.1015987,
          47.4788017273,
          39.5942001343,
          76.9200973511,
          7.1427397728,
          19.1303031,
          28.1511993408,
          58.2844009399,
          103.9100036621,
          142.085998535,
          77.2140499,
          72.8678970337,
          20.6518001556,
          7.6496300697,
          -46.6563873291,
          113.914722,
          -73.77890015,
          -81.376701355,
          135.2440032959,
          30.2625007629,
          -99.0720977783,
          28.8145999908,
          13.2876996994,
          12.2508001328,
          -3.4458699226,
          -58.4156,
          -95.3414001465,
          -79.3962020874,
          -87.7524032593,
          -106.4290008545,
          150.9880065918,
          3.321160078
         ],
         "marker": {
          "color": "#FECB52",
          "symbol": "circle"
         },
         "mode": "markers",
         "name": "8.8.8.8",
         "showlegend": true,
         "type": "scattergeo"
        },
        {
         "geo": "geo",
         "hovertemplate": "<b>%{hovertext}</b><br><br>ip_address=76.76.10.0<br>latitude=%{lat}<br>longitude=%{lon}<extra></extra>",
         "hovertext": [
          "Controld Inc.",
          "Controld Inc.",
          "Controld Inc.",
          "Controld Inc.",
          "Controld Inc.",
          "Controld Inc.",
          "Controld Inc.",
          "Controld Inc.",
          "Controld Inc.",
          "Controld Inc.",
          "Controld Inc.",
          "Controld Inc.",
          "Controld Inc.",
          "Controld Inc.",
          "Controld Inc."
         ],
         "lat": [
          25.7931995392,
          51.113899231,
          50.8658981323,
          -26.2425003052,
          1.3604199886,
          -23.6261100769,
          49.0741996765,
          35.5522994995,
          43.7425003052,
          59.8003005981,
          40.898601532,
          35.4160995483,
          33.94250107,
          29.9843997955,
          -33.9244003296
         ],
         "legendgroup": "76.76.10.0",
         "lon": [
          -80.2906036377,
          -114.019996643,
          7.1427397728,
          28.1511993408,
          103.9100036621,
          -46.6563873291,
          -123.012001038,
          139.7799987793,
          -79.4655990601,
          30.2625007629,
          29.3092002869,
          51.1521987915,
          -118.4079971,
          -95.3414001465,
          150.9880065918
         ],
         "marker": {
          "color": "#636efa",
          "symbol": "circle"
         },
         "mode": "markers",
         "name": "76.76.10.0",
         "showlegend": true,
         "type": "scattergeo"
        },
        {
         "geo": "geo",
         "hovertemplate": "<b>%{hovertext}</b><br><br>ip_address=64.6.65.6<br>latitude=%{lat}<br>longitude=%{lon}<extra></extra>",
         "hovertext": [
          "UltraDNS",
          "UltraDNS",
          "UltraDNS",
          "UltraDNS",
          "UltraDNS",
          "UltraDNS",
          "UltraDNS",
          "UltraDNS",
          "UltraDNS",
          "UltraDNS",
          "UltraDNS",
          "UltraDNS",
          "UltraDNS",
          "UltraDNS",
          "UltraDNS",
          "UltraDNS",
          "UltraDNS",
          "UltraDNS",
          "UltraDNS",
          "UltraDNS"
         ],
         "lat": [
          48.9693984985,
          25.7931995392,
          4.70159,
          25.1295,
          33.94250107,
          39.7827987671,
          51.5286416,
          50.8658981323,
          1.3604199886,
          -23.6261100769,
          37.7468986511,
          31.1434001923,
          40.63980103,
          52.5597000122,
          32.8470993042,
          59.3544006348,
          -26.2425003052,
          35.5522994995,
          -33.9244003296,
          19.0886993408
         ],
         "legendgroup": "64.6.65.6",
         "lon": [
          2.4413900375,
          -80.2906036377,
          -74.1469,
          56.3395,
          -118.4079971,
          116.3880004883,
          -0.1015987,
          7.1427397728,
          103.9100036621,
          -46.6563873291,
          112.6279983521,
          121.8050003052,
          -73.77890015,
          13.2876996994,
          -96.8517990112,
          17.9416999817,
          28.1511993408,
          139.7799987793,
          150.9880065918,
          72.8678970337
         ],
         "marker": {
          "color": "#EF553B",
          "symbol": "circle"
         },
         "mode": "markers",
         "name": "64.6.65.6",
         "showlegend": true,
         "type": "scattergeo"
        },
        {
         "geo": "geo",
         "hovertemplate": "<b>%{hovertext}</b><br><br>ip_address=76.76.2.0<br>latitude=%{lat}<br>longitude=%{lon}<extra></extra>",
         "hovertext": [
          "Controld Inc.",
          "Controld Inc.",
          "Controld Inc.",
          "Controld Inc.",
          "Controld Inc.",
          "Controld Inc.",
          "Controld Inc.",
          "Controld Inc.",
          "Controld Inc.",
          "Controld Inc.",
          "Controld Inc.",
          "Controld Inc.",
          "Controld Inc.",
          "Controld Inc.",
          "Controld Inc.",
          "Controld Inc."
         ],
         "lat": [
          25.7931995392,
          51.113899231,
          50.8658981323,
          1.3604199886,
          -26.2425003052,
          -23.6261100769,
          49.0741996765,
          19.0886993408,
          35.5522994995,
          43.7425003052,
          29.9843997955,
          59.8003005981,
          24.7098007202,
          40.898601532,
          33.94250107,
          -33.9244003296
         ],
         "legendgroup": "76.76.2.0",
         "lon": [
          -80.2906036377,
          -114.019996643,
          7.1427397728,
          103.9100036621,
          28.1511993408,
          -46.6563873291,
          -123.012001038,
          72.8678970337,
          139.7799987793,
          -79.4655990601,
          -95.3414001465,
          30.2625007629,
          46.7252006531,
          29.3092002869,
          -118.4079971,
          150.9880065918
         ],
         "marker": {
          "color": "#00cc96",
          "symbol": "circle"
         },
         "mode": "markers",
         "name": "76.76.2.0",
         "showlegend": true,
         "type": "scattergeo"
        },
        {
         "geo": "geo",
         "hovertemplate": "<b>%{hovertext}</b><br><br>ip_address=8.26.56.26<br>latitude=%{lat}<br>longitude=%{lon}<extra></extra>",
         "hovertext": [
          "NuCDN LLC",
          "NuCDN LLC",
          "NuCDN LLC",
          "NuCDN LLC",
          "NuCDN LLC",
          "NuCDN LLC",
          "NuCDN LLC",
          "NuCDN LLC",
          "NuCDN LLC",
          "NuCDN LLC",
          "NuCDN LLC"
         ],
         "lat": [
          47.5299987793,
          25.7931995392,
          49.0127983093,
          51.5052986145,
          33.94250107,
          37.5583000183,
          50.8658981323,
          1.3604199886,
          41.7859992981,
          29.9843997955,
          -33.9244003296
         ],
         "legendgroup": "8.26.56.26",
         "lon": [
          -122.3020019531,
          -80.2906036377,
          2.5499999523,
          0.0552779995,
          -118.4079971,
          126.791000366,
          7.1427397728,
          103.9100036621,
          -87.7524032593,
          -95.3414001465,
          150.9880065918
         ],
         "marker": {
          "color": "#ab63fa",
          "symbol": "circle"
         },
         "mode": "markers",
         "name": "8.26.56.26",
         "showlegend": true,
         "type": "scattergeo"
        },
        {
         "geo": "geo",
         "hovertemplate": "<b>%{hovertext}</b><br><br>ip_address=74.82.42.42<br>latitude=%{lat}<br>longitude=%{lon}<extra></extra>",
         "hovertext": [
          "Hurricane Electric LLC",
          "Hurricane Electric LLC",
          "Hurricane Electric LLC",
          "Hurricane Electric LLC",
          "Hurricane Electric LLC",
          "Hurricane Electric LLC",
          "Hurricane Electric LLC",
          "Hurricane Electric LLC",
          "Hurricane Electric LLC",
          "Hurricane Electric LLC",
          "Hurricane Electric LLC",
          "Hurricane Electric LLC",
          "Hurricane Electric LLC",
          "Hurricane Electric LLC",
          "Hurricane Electric LLC",
          "Hurricane Electric LLC",
          "Hurricane Electric LLC",
          "Hurricane Electric LLC",
          "Hurricane Electric LLC",
          "Hurricane Electric LLC",
          "Hurricane Electric LLC",
          "Hurricane Electric LLC"
         ],
         "lat": [
          47.5299987793,
          49.0127983093,
          51.5052986145,
          33.94250107,
          37.62189865,
          25.7931995392,
          51.113899231,
          49.9099998474,
          1.3604199886,
          47.4812134,
          50.8658981323,
          45.445098877,
          22.308889,
          52.5597000122,
          -26.2425003052,
          40.63980103,
          59.8003005981,
          33.2625007629,
          40.4936,
          -33.9244003296,
          37.4691009521,
          21.3187007904
         ],
         "legendgroup": "74.82.42.42",
         "lon": [
          -122.3020019531,
          2.5499999523,
          0.0552779995,
          -118.4079971,
          -97.26820374,
          -80.2906036377,
          -114.019996643,
          -97.2398986816,
          103.9100036621,
          19.1303031,
          7.1427397728,
          9.2767400742,
          113.914722,
          13.2876996994,
          28.1511993408,
          -73.77890015,
          30.2625007629,
          44.2346000671,
          -3.56676,
          150.9880065918,
          126.4509963989,
          -157.9219970703
         ],
         "marker": {
          "color": "#FFA15A",
          "symbol": "circle"
         },
         "mode": "markers",
         "name": "74.82.42.42",
         "showlegend": true,
         "type": "scattergeo"
        },
        {
         "geo": "geo",
         "hovertemplate": "<b>%{hovertext}</b><br><br>ip_address=195.46.39.39<br>latitude=%{lat}<br>longitude=%{lon}<extra></extra>",
         "hovertext": [
          "SafeDNS Inc.",
          "SafeDNS Inc.",
          "SafeDNS Inc.",
          "SafeDNS Inc.",
          "SafeDNS Inc.",
          "SafeDNS Inc.",
          "SafeDNS Inc.",
          "SafeDNS Inc.",
          "SafeDNS Inc.",
          "SafeDNS Inc.",
          "SafeDNS Inc.",
          "SafeDNS Inc.",
          "SafeDNS Inc."
         ],
         "lat": [
          49.0127983093,
          47.5299987793,
          33.94250107,
          51.5286416,
          37.5583000183,
          50.8658981323,
          -26.2425003052,
          40.63980103,
          -33.9244003296,
          -6.1255698204,
          19.0886993408,
          -34.5592,
          18.4297008514
         ],
         "legendgroup": "195.46.39.39",
         "lon": [
          2.5499999523,
          -122.3020019531,
          -118.4079971,
          -0.1015987,
          126.791000366,
          7.1427397728,
          28.1511993408,
          -73.77890015,
          150.9880065918,
          106.65599823,
          72.8678970337,
          -58.4156,
          -69.6688995361
         ],
         "marker": {
          "color": "#19d3f3",
          "symbol": "circle"
         },
         "mode": "markers",
         "name": "195.46.39.39",
         "showlegend": true,
         "type": "scattergeo"
        },
        {
         "geo": "geo",
         "hovertemplate": "<b>%{hovertext}</b><br><br>ip_address=195.46.39.40<br>latitude=%{lat}<br>longitude=%{lon}<extra></extra>",
         "hovertext": [
          "SafeDNS Inc.",
          "SafeDNS Inc.",
          "SafeDNS Inc.",
          "SafeDNS Inc.",
          "SafeDNS Inc.",
          "SafeDNS Inc.",
          "SafeDNS Inc.",
          "SafeDNS Inc.",
          "SafeDNS Inc.",
          "SafeDNS Inc.",
          "SafeDNS Inc.",
          "SafeDNS Inc.",
          "SafeDNS Inc."
         ],
         "lat": [
          49.0127983093,
          47.5299987793,
          33.94250107,
          51.5286416,
          37.5583000183,
          50.8658981323,
          -26.2425003052,
          40.63980103,
          -33.9244003296,
          -6.1255698204,
          19.0886993408,
          -34.5592,
          18.4297008514
         ],
         "legendgroup": "195.46.39.40",
         "lon": [
          2.5499999523,
          -122.3020019531,
          -118.4079971,
          -0.1015987,
          126.791000366,
          7.1427397728,
          28.1511993408,
          -73.77890015,
          150.9880065918,
          106.65599823,
          72.8678970337,
          -58.4156,
          -69.6688995361
         ],
         "marker": {
          "color": "#FF6692",
          "symbol": "circle"
         },
         "mode": "markers",
         "name": "195.46.39.40",
         "showlegend": true,
         "type": "scattergeo"
        },
        {
         "geo": "geo",
         "hovertemplate": "<b>%{hovertext}</b><br><br>ip_address=185.228.168.9<br>latitude=%{lat}<br>longitude=%{lon}<extra></extra>",
         "hovertext": [
          "Daniel Cid",
          "Daniel Cid",
          "Daniel Cid",
          "Daniel Cid",
          "Daniel Cid",
          "Daniel Cid",
          "Daniel Cid",
          "Daniel Cid",
          "Daniel Cid",
          "Daniel Cid",
          "Daniel Cid",
          "Daniel Cid",
          "Daniel Cid",
          "Daniel Cid",
          "Daniel Cid",
          "Daniel Cid",
          "Daniel Cid",
          "Daniel Cid"
         ],
         "lat": [
          25.7931995392,
          51.5052986145,
          49.0127983093,
          33.94250107,
          32.8093986511,
          -34.2291984558,
          37.5583000183,
          50.8658981323,
          -23.5090999603,
          40.4967002869,
          49.0741996765,
          59.8003005981,
          40.63980103,
          52.3800010681,
          41.7859992981,
          19.4363002777,
          -6.1255698204,
          -33.9244003296
         ],
         "legendgroup": "185.228.168.9",
         "lon": [
          -80.2906036377,
          0.0552779995,
          2.5499999523,
          -118.4079971,
          35.0430984497,
          142.085998535,
          126.791000366,
          7.1427397728,
          -46.6377983093,
          -3.4458699226,
          -123.012001038,
          30.2625007629,
          -73.77890015,
          13.5225000381,
          -87.7524032593,
          -99.0720977783,
          106.65599823,
          150.9880065918
         ],
         "marker": {
          "color": "#B6E880",
          "symbol": "circle"
         },
         "mode": "markers",
         "name": "185.228.168.9",
         "showlegend": true,
         "type": "scattergeo"
        },
        {
         "geo": "geo",
         "hovertemplate": "<b>%{hovertext}</b><br><br>ip_address=134.195.4.2<br>latitude=%{lat}<br>longitude=%{lon}<extra></extra>",
         "hovertext": [
          "NextGI LLC.",
          "NextGI LLC.",
          "NextGI LLC.",
          "NextGI LLC."
         ],
         "lat": [
          37.5583000183,
          51.5530014038,
          40.63980103,
          33.94250107
         ],
         "legendgroup": "134.195.4.2",
         "lon": [
          126.791000366,
          -0.418166995,
          -73.77890015,
          -118.4079971
         ],
         "marker": {
          "color": "#FF97FF",
          "symbol": "circle"
         },
         "mode": "markers",
         "name": "134.195.4.2",
         "showlegend": true,
         "type": "scattergeo"
        },
        {
         "geo": "geo",
         "hovertemplate": "<b>%{hovertext}</b><br><br>ip_address=8.20.247.20<br>latitude=%{lat}<br>longitude=%{lon}<extra></extra>",
         "hovertext": [
          "NuCDN LLC",
          "NuCDN LLC",
          "NuCDN LLC",
          "NuCDN LLC",
          "NuCDN LLC",
          "NuCDN LLC",
          "NuCDN LLC",
          "NuCDN LLC",
          "NuCDN LLC",
          "NuCDN LLC",
          "NuCDN LLC"
         ],
         "lat": [
          47.5299987793,
          25.7931995392,
          49.0127983093,
          51.5052986145,
          33.94250107,
          37.5583000183,
          50.8658981323,
          1.3604199886,
          41.7859992981,
          29.9843997955,
          -33.9244003296
         ],
         "legendgroup": "8.20.247.20",
         "lon": [
          -122.3020019531,
          -80.2906036377,
          2.5499999523,
          0.0552779995,
          -118.4079971,
          126.791000366,
          7.1427397728,
          103.9100036621,
          -87.7524032593,
          -95.3414001465,
          150.9880065918
         ],
         "marker": {
          "color": "#FECB52",
          "symbol": "circle"
         },
         "mode": "markers",
         "name": "8.20.247.20",
         "showlegend": true,
         "type": "scattergeo"
        },
        {
         "geo": "geo",
         "hovertemplate": "<b>%{hovertext}</b><br><br>ip_address=94.140.15.15<br>latitude=%{lat}<br>longitude=%{lon}<extra></extra>",
         "hovertext": [
          "AdGuard Software Limited",
          "AdGuard Software Limited",
          "AdGuard Software Limited",
          "AdGuard Software Limited",
          "AdGuard Software Limited",
          "AdGuard Software Limited",
          "AdGuard Software Limited",
          "AdGuard Software Limited",
          "AdGuard Software Limited",
          "AdGuard Software Limited",
          "AdGuard Software Limited"
         ],
         "lat": [
          25.7931995392,
          50.8658981323,
          1.3604199886,
          52.5597000122,
          35.5522994995,
          40.63980103,
          59.8003005981,
          40.898601532,
          -33.9244003296,
          33.94250107,
          41.7859992981
         ],
         "legendgroup": "94.140.15.15",
         "lon": [
          -80.2906036377,
          7.1427397728,
          103.9100036621,
          13.2876996994,
          139.7799987793,
          -73.77890015,
          30.2625007629,
          29.3092002869,
          150.9880065918,
          -118.4079971,
          -87.7524032593
         ],
         "marker": {
          "color": "#636efa",
          "symbol": "circle"
         },
         "mode": "markers",
         "name": "94.140.15.15",
         "showlegend": true,
         "type": "scattergeo"
        },
        {
         "geo": "geo",
         "hovertemplate": "<b>%{hovertext}</b><br><br>ip_address=94.140.14.14<br>latitude=%{lat}<br>longitude=%{lon}<extra></extra>",
         "hovertext": [
          "AdGuard Software Limited",
          "AdGuard Software Limited",
          "AdGuard Software Limited",
          "AdGuard Software Limited",
          "AdGuard Software Limited",
          "AdGuard Software Limited",
          "AdGuard Software Limited",
          "AdGuard Software Limited",
          "AdGuard Software Limited",
          "AdGuard Software Limited"
         ],
         "lat": [
          25.7931995392,
          50.8658981323,
          1.3604199886,
          52.5597000122,
          35.5522994995,
          59.8003005981,
          41.7859992981,
          40.898601532,
          -33.9244003296,
          33.94250107
         ],
         "legendgroup": "94.140.14.14",
         "lon": [
          -80.2906036377,
          7.1427397728,
          103.9100036621,
          13.2876996994,
          139.7799987793,
          30.2625007629,
          -87.7524032593,
          29.3092002869,
          150.9880065918,
          -118.4079971
         ],
         "marker": {
          "color": "#EF553B",
          "symbol": "circle"
         },
         "mode": "markers",
         "name": "94.140.14.14",
         "showlegend": true,
         "type": "scattergeo"
        },
        {
         "geo": "geo",
         "hovertemplate": "<b>%{hovertext}</b><br><br>ip_address=64.6.64.6<br>latitude=%{lat}<br>longitude=%{lon}<extra></extra>",
         "hovertext": [
          "UltraDNS",
          "UltraDNS",
          "UltraDNS",
          "UltraDNS",
          "UltraDNS",
          "UltraDNS",
          "UltraDNS",
          "UltraDNS",
          "UltraDNS",
          "UltraDNS",
          "UltraDNS",
          "UltraDNS",
          "UltraDNS",
          "UltraDNS",
          "UltraDNS",
          "UltraDNS",
          "UltraDNS",
          "UltraDNS",
          "UltraDNS"
         ],
         "lat": [
          25.1295,
          48.9693984985,
          25.7931995392,
          4.70159,
          25.0695,
          47.5299987793,
          39.7827987671,
          19.0886993408,
          28.6070051,
          22.308889,
          -23.6261100769,
          34.376701355,
          40.4967002869,
          31.1434001923,
          52.3800010681,
          -26.2425003052,
          33.94250107,
          41.7859992981,
          -33.9244003296
         ],
         "legendgroup": "64.6.64.6",
         "lon": [
          56.3395,
          2.4413900375,
          -80.2906036377,
          -74.1469,
          121.5785,
          -122.3020019531,
          116.3880004883,
          72.8678970337,
          77.2140499,
          113.914722,
          -46.6563873291,
          109.1200027466,
          -3.4458699226,
          121.8050003052,
          13.5225000381,
          28.1511993408,
          -118.4079971,
          -87.7524032593,
          150.9880065918
         ],
         "marker": {
          "color": "#00cc96",
          "symbol": "circle"
         },
         "mode": "markers",
         "name": "64.6.64.6",
         "showlegend": true,
         "type": "scattergeo"
        },
        {
         "geo": "geo",
         "hovertemplate": "<b>%{hovertext}</b><br><br>ip_address=185.228.169.9<br>latitude=%{lat}<br>longitude=%{lon}<extra></extra>",
         "hovertext": [
          "Daniel Cid",
          "Daniel Cid",
          "Daniel Cid",
          "Daniel Cid",
          "Daniel Cid",
          "Daniel Cid",
          "Daniel Cid"
         ],
         "lat": [
          37.62189865,
          51.3307991028,
          33.94250107,
          49.0741996765,
          40.63980103,
          -33.9244003296,
          31.1979007721
         ],
         "legendgroup": "185.228.169.9",
         "lon": [
          -97.26820374,
          0.0324999988,
          -118.4079971,
          -123.012001038,
          -73.77890015,
          150.9880065918,
          121.3359985352
         ],
         "marker": {
          "color": "#ab63fa",
          "symbol": "circle"
         },
         "mode": "markers",
         "name": "185.228.169.9",
         "showlegend": true,
         "type": "scattergeo"
        },
        {
         "geo": "geo",
         "hovertemplate": "<b>%{hovertext}</b><br><br>ip_address=216.146.35.35<br>latitude=%{lat}<br>longitude=%{lon}<extra></extra>",
         "hovertext": [
          "Oracle Corporation",
          "Oracle Corporation",
          "Oracle Corporation"
         ],
         "lat": [
          51.5286416,
          41.7859992981,
          40.63980103
         ],
         "legendgroup": "216.146.35.35",
         "lon": [
          -0.1015987,
          -87.7524032593,
          -73.77890015
         ],
         "marker": {
          "color": "#FFA15A",
          "symbol": "circle"
         },
         "mode": "markers",
         "name": "216.146.35.35",
         "showlegend": true,
         "type": "scattergeo"
        },
        {
         "geo": "geo",
         "hovertemplate": "<b>%{hovertext}</b><br><br>ip_address=216.146.36.36<br>latitude=%{lat}<br>longitude=%{lon}<extra></extra>",
         "hovertext": [
          "Oracle Corporation",
          "Oracle Corporation",
          "Oracle Corporation"
         ],
         "lat": [
          51.5286416,
          41.7859992981,
          40.63980103
         ],
         "legendgroup": "216.146.36.36",
         "lon": [
          -0.1015987,
          -87.7524032593,
          -73.77890015
         ],
         "marker": {
          "color": "#19d3f3",
          "symbol": "circle"
         },
         "mode": "markers",
         "name": "216.146.36.36",
         "showlegend": true,
         "type": "scattergeo"
        }
       ],
       "layout": {
        "autosize": true,
        "geo": {
         "center": {},
         "domain": {
          "x": [
           0,
           1
          ],
          "y": [
           0,
           1
          ]
         },
         "projection": {
          "type": "natural earth"
         }
        },
        "legend": {
         "title": {
          "text": "ip_address"
         },
         "tracegroupgap": 0
        },
        "template": {
         "data": {
          "bar": [
           {
            "error_x": {
             "color": "#2a3f5f"
            },
            "error_y": {
             "color": "#2a3f5f"
            },
            "marker": {
             "line": {
              "color": "#E5ECF6",
              "width": 0.5
             },
             "pattern": {
              "fillmode": "overlay",
              "size": 10,
              "solidity": 0.2
             }
            },
            "type": "bar"
           }
          ],
          "barpolar": [
           {
            "marker": {
             "line": {
              "color": "#E5ECF6",
              "width": 0.5
             },
             "pattern": {
              "fillmode": "overlay",
              "size": 10,
              "solidity": 0.2
             }
            },
            "type": "barpolar"
           }
          ],
          "carpet": [
           {
            "aaxis": {
             "endlinecolor": "#2a3f5f",
             "gridcolor": "white",
             "linecolor": "white",
             "minorgridcolor": "white",
             "startlinecolor": "#2a3f5f"
            },
            "baxis": {
             "endlinecolor": "#2a3f5f",
             "gridcolor": "white",
             "linecolor": "white",
             "minorgridcolor": "white",
             "startlinecolor": "#2a3f5f"
            },
            "type": "carpet"
           }
          ],
          "choropleth": [
           {
            "colorbar": {
             "outlinewidth": 0,
             "ticks": ""
            },
            "type": "choropleth"
           }
          ],
          "contour": [
           {
            "colorbar": {
             "outlinewidth": 0,
             "ticks": ""
            },
            "colorscale": [
             [
              0,
              "#0d0887"
             ],
             [
              0.1111111111111111,
              "#46039f"
             ],
             [
              0.2222222222222222,
              "#7201a8"
             ],
             [
              0.3333333333333333,
              "#9c179e"
             ],
             [
              0.4444444444444444,
              "#bd3786"
             ],
             [
              0.5555555555555556,
              "#d8576b"
             ],
             [
              0.6666666666666666,
              "#ed7953"
             ],
             [
              0.7777777777777778,
              "#fb9f3a"
             ],
             [
              0.8888888888888888,
              "#fdca26"
             ],
             [
              1,
              "#f0f921"
             ]
            ],
            "type": "contour"
           }
          ],
          "contourcarpet": [
           {
            "colorbar": {
             "outlinewidth": 0,
             "ticks": ""
            },
            "type": "contourcarpet"
           }
          ],
          "heatmap": [
           {
            "colorbar": {
             "outlinewidth": 0,
             "ticks": ""
            },
            "colorscale": [
             [
              0,
              "#0d0887"
             ],
             [
              0.1111111111111111,
              "#46039f"
             ],
             [
              0.2222222222222222,
              "#7201a8"
             ],
             [
              0.3333333333333333,
              "#9c179e"
             ],
             [
              0.4444444444444444,
              "#bd3786"
             ],
             [
              0.5555555555555556,
              "#d8576b"
             ],
             [
              0.6666666666666666,
              "#ed7953"
             ],
             [
              0.7777777777777778,
              "#fb9f3a"
             ],
             [
              0.8888888888888888,
              "#fdca26"
             ],
             [
              1,
              "#f0f921"
             ]
            ],
            "type": "heatmap"
           }
          ],
          "heatmapgl": [
           {
            "colorbar": {
             "outlinewidth": 0,
             "ticks": ""
            },
            "colorscale": [
             [
              0,
              "#0d0887"
             ],
             [
              0.1111111111111111,
              "#46039f"
             ],
             [
              0.2222222222222222,
              "#7201a8"
             ],
             [
              0.3333333333333333,
              "#9c179e"
             ],
             [
              0.4444444444444444,
              "#bd3786"
             ],
             [
              0.5555555555555556,
              "#d8576b"
             ],
             [
              0.6666666666666666,
              "#ed7953"
             ],
             [
              0.7777777777777778,
              "#fb9f3a"
             ],
             [
              0.8888888888888888,
              "#fdca26"
             ],
             [
              1,
              "#f0f921"
             ]
            ],
            "type": "heatmapgl"
           }
          ],
          "histogram": [
           {
            "marker": {
             "pattern": {
              "fillmode": "overlay",
              "size": 10,
              "solidity": 0.2
             }
            },
            "type": "histogram"
           }
          ],
          "histogram2d": [
           {
            "colorbar": {
             "outlinewidth": 0,
             "ticks": ""
            },
            "colorscale": [
             [
              0,
              "#0d0887"
             ],
             [
              0.1111111111111111,
              "#46039f"
             ],
             [
              0.2222222222222222,
              "#7201a8"
             ],
             [
              0.3333333333333333,
              "#9c179e"
             ],
             [
              0.4444444444444444,
              "#bd3786"
             ],
             [
              0.5555555555555556,
              "#d8576b"
             ],
             [
              0.6666666666666666,
              "#ed7953"
             ],
             [
              0.7777777777777778,
              "#fb9f3a"
             ],
             [
              0.8888888888888888,
              "#fdca26"
             ],
             [
              1,
              "#f0f921"
             ]
            ],
            "type": "histogram2d"
           }
          ],
          "histogram2dcontour": [
           {
            "colorbar": {
             "outlinewidth": 0,
             "ticks": ""
            },
            "colorscale": [
             [
              0,
              "#0d0887"
             ],
             [
              0.1111111111111111,
              "#46039f"
             ],
             [
              0.2222222222222222,
              "#7201a8"
             ],
             [
              0.3333333333333333,
              "#9c179e"
             ],
             [
              0.4444444444444444,
              "#bd3786"
             ],
             [
              0.5555555555555556,
              "#d8576b"
             ],
             [
              0.6666666666666666,
              "#ed7953"
             ],
             [
              0.7777777777777778,
              "#fb9f3a"
             ],
             [
              0.8888888888888888,
              "#fdca26"
             ],
             [
              1,
              "#f0f921"
             ]
            ],
            "type": "histogram2dcontour"
           }
          ],
          "mesh3d": [
           {
            "colorbar": {
             "outlinewidth": 0,
             "ticks": ""
            },
            "type": "mesh3d"
           }
          ],
          "parcoords": [
           {
            "line": {
             "colorbar": {
              "outlinewidth": 0,
              "ticks": ""
             }
            },
            "type": "parcoords"
           }
          ],
          "pie": [
           {
            "automargin": true,
            "type": "pie"
           }
          ],
          "scatter": [
           {
            "fillpattern": {
             "fillmode": "overlay",
             "size": 10,
             "solidity": 0.2
            },
            "type": "scatter"
           }
          ],
          "scatter3d": [
           {
            "line": {
             "colorbar": {
              "outlinewidth": 0,
              "ticks": ""
             }
            },
            "marker": {
             "colorbar": {
              "outlinewidth": 0,
              "ticks": ""
             }
            },
            "type": "scatter3d"
           }
          ],
          "scattercarpet": [
           {
            "marker": {
             "colorbar": {
              "outlinewidth": 0,
              "ticks": ""
             }
            },
            "type": "scattercarpet"
           }
          ],
          "scattergeo": [
           {
            "marker": {
             "colorbar": {
              "outlinewidth": 0,
              "ticks": ""
             }
            },
            "type": "scattergeo"
           }
          ],
          "scattergl": [
           {
            "marker": {
             "colorbar": {
              "outlinewidth": 0,
              "ticks": ""
             }
            },
            "type": "scattergl"
           }
          ],
          "scattermapbox": [
           {
            "marker": {
             "colorbar": {
              "outlinewidth": 0,
              "ticks": ""
             }
            },
            "type": "scattermapbox"
           }
          ],
          "scatterpolar": [
           {
            "marker": {
             "colorbar": {
              "outlinewidth": 0,
              "ticks": ""
             }
            },
            "type": "scatterpolar"
           }
          ],
          "scatterpolargl": [
           {
            "marker": {
             "colorbar": {
              "outlinewidth": 0,
              "ticks": ""
             }
            },
            "type": "scatterpolargl"
           }
          ],
          "scatterternary": [
           {
            "marker": {
             "colorbar": {
              "outlinewidth": 0,
              "ticks": ""
             }
            },
            "type": "scatterternary"
           }
          ],
          "surface": [
           {
            "colorbar": {
             "outlinewidth": 0,
             "ticks": ""
            },
            "colorscale": [
             [
              0,
              "#0d0887"
             ],
             [
              0.1111111111111111,
              "#46039f"
             ],
             [
              0.2222222222222222,
              "#7201a8"
             ],
             [
              0.3333333333333333,
              "#9c179e"
             ],
             [
              0.4444444444444444,
              "#bd3786"
             ],
             [
              0.5555555555555556,
              "#d8576b"
             ],
             [
              0.6666666666666666,
              "#ed7953"
             ],
             [
              0.7777777777777778,
              "#fb9f3a"
             ],
             [
              0.8888888888888888,
              "#fdca26"
             ],
             [
              1,
              "#f0f921"
             ]
            ],
            "type": "surface"
           }
          ],
          "table": [
           {
            "cells": {
             "fill": {
              "color": "#EBF0F8"
             },
             "line": {
              "color": "white"
             }
            },
            "header": {
             "fill": {
              "color": "#C8D4E3"
             },
             "line": {
              "color": "white"
             }
            },
            "type": "table"
           }
          ]
         },
         "layout": {
          "annotationdefaults": {
           "arrowcolor": "#2a3f5f",
           "arrowhead": 0,
           "arrowwidth": 1
          },
          "autotypenumbers": "strict",
          "coloraxis": {
           "colorbar": {
            "outlinewidth": 0,
            "ticks": ""
           }
          },
          "colorscale": {
           "diverging": [
            [
             0,
             "#8e0152"
            ],
            [
             0.1,
             "#c51b7d"
            ],
            [
             0.2,
             "#de77ae"
            ],
            [
             0.3,
             "#f1b6da"
            ],
            [
             0.4,
             "#fde0ef"
            ],
            [
             0.5,
             "#f7f7f7"
            ],
            [
             0.6,
             "#e6f5d0"
            ],
            [
             0.7,
             "#b8e186"
            ],
            [
             0.8,
             "#7fbc41"
            ],
            [
             0.9,
             "#4d9221"
            ],
            [
             1,
             "#276419"
            ]
           ],
           "sequential": [
            [
             0,
             "#0d0887"
            ],
            [
             0.1111111111111111,
             "#46039f"
            ],
            [
             0.2222222222222222,
             "#7201a8"
            ],
            [
             0.3333333333333333,
             "#9c179e"
            ],
            [
             0.4444444444444444,
             "#bd3786"
            ],
            [
             0.5555555555555556,
             "#d8576b"
            ],
            [
             0.6666666666666666,
             "#ed7953"
            ],
            [
             0.7777777777777778,
             "#fb9f3a"
            ],
            [
             0.8888888888888888,
             "#fdca26"
            ],
            [
             1,
             "#f0f921"
            ]
           ],
           "sequentialminus": [
            [
             0,
             "#0d0887"
            ],
            [
             0.1111111111111111,
             "#46039f"
            ],
            [
             0.2222222222222222,
             "#7201a8"
            ],
            [
             0.3333333333333333,
             "#9c179e"
            ],
            [
             0.4444444444444444,
             "#bd3786"
            ],
            [
             0.5555555555555556,
             "#d8576b"
            ],
            [
             0.6666666666666666,
             "#ed7953"
            ],
            [
             0.7777777777777778,
             "#fb9f3a"
            ],
            [
             0.8888888888888888,
             "#fdca26"
            ],
            [
             1,
             "#f0f921"
            ]
           ]
          },
          "colorway": [
           "#636efa",
           "#EF553B",
           "#00cc96",
           "#ab63fa",
           "#FFA15A",
           "#19d3f3",
           "#FF6692",
           "#B6E880",
           "#FF97FF",
           "#FECB52"
          ],
          "font": {
           "color": "#2a3f5f"
          },
          "geo": {
           "bgcolor": "white",
           "lakecolor": "white",
           "landcolor": "#E5ECF6",
           "showlakes": true,
           "showland": true,
           "subunitcolor": "white"
          },
          "hoverlabel": {
           "align": "left"
          },
          "hovermode": "closest",
          "mapbox": {
           "style": "light"
          },
          "paper_bgcolor": "white",
          "plot_bgcolor": "#E5ECF6",
          "polar": {
           "angularaxis": {
            "gridcolor": "white",
            "linecolor": "white",
            "ticks": ""
           },
           "bgcolor": "#E5ECF6",
           "radialaxis": {
            "gridcolor": "white",
            "linecolor": "white",
            "ticks": ""
           }
          },
          "scene": {
           "xaxis": {
            "backgroundcolor": "#E5ECF6",
            "gridcolor": "white",
            "gridwidth": 2,
            "linecolor": "white",
            "showbackground": true,
            "ticks": "",
            "zerolinecolor": "white"
           },
           "yaxis": {
            "backgroundcolor": "#E5ECF6",
            "gridcolor": "white",
            "gridwidth": 2,
            "linecolor": "white",
            "showbackground": true,
            "ticks": "",
            "zerolinecolor": "white"
           },
           "zaxis": {
            "backgroundcolor": "#E5ECF6",
            "gridcolor": "white",
            "gridwidth": 2,
            "linecolor": "white",
            "showbackground": true,
            "ticks": "",
            "zerolinecolor": "white"
           }
          },
          "shapedefaults": {
           "line": {
            "color": "#2a3f5f"
           }
          },
          "ternary": {
           "aaxis": {
            "gridcolor": "white",
            "linecolor": "white",
            "ticks": ""
           },
           "baxis": {
            "gridcolor": "white",
            "linecolor": "white",
            "ticks": ""
           },
           "bgcolor": "#E5ECF6",
           "caxis": {
            "gridcolor": "white",
            "linecolor": "white",
            "ticks": ""
           }
          },
          "title": {
           "x": 0.05
          },
          "xaxis": {
           "automargin": true,
           "gridcolor": "white",
           "linecolor": "white",
           "ticks": "",
           "title": {
            "standoff": 15
           },
           "zerolinecolor": "white",
           "zerolinewidth": 2
          },
          "yaxis": {
           "automargin": true,
           "gridcolor": "white",
           "linecolor": "white",
           "ticks": "",
           "title": {
            "standoff": 15
           },
           "zerolinecolor": "white",
           "zerolinewidth": 2
          }
         }
        },
        "title": {
         "text": "Geomap using Plotly"
        }
       }
      },
      "image/png": "[encoded data removed]",
      "text/html": [
       "<div>                            <div id=\"642b6ac1-3dd2-4718-bcb3-67a9e040597e\" class=\"plotly-graph-div\" style=\"height:525px; width:100%;\"></div>            <script type=\"text/javascript\">                require([\"plotly\"], function(Plotly) {                    window.PLOTLYENV=window.PLOTLYENV || {};                                    if (document.getElementById(\"642b6ac1-3dd2-4718-bcb3-67a9e040597e\")) {                    Plotly.newPlot(                        \"642b6ac1-3dd2-4718-bcb3-67a9e040597e\",                        [{\"geo\":\"geo\",\"hovertemplate\":\"<b>%{hovertext}</b><br><br>ip_address=1.0.0.1<br>latitude=%{lat}<br>longitude=%{lon}<extra></extra>\",\"hovertext\":[\"CloudFlare Inc.\",\"CloudFlare Inc.\",\"CloudFlare Inc.\",\"CloudFlare Inc.\",\"CloudFlare Inc.\",\"CloudFlare Inc.\",\"CloudFlare Inc.\",\"CloudFlare Inc.\",\"CloudFlare Inc.\",\"CloudFlare Inc.\",\"CloudFlare Inc.\",\"CloudFlare Inc.\",\"CloudFlare Inc.\",\"CloudFlare Inc.\",\"CloudFlare Inc.\",\"CloudFlare Inc.\",\"CloudFlare Inc.\",\"CloudFlare Inc.\",\"CloudFlare Inc.\",\"CloudFlare Inc.\",\"CloudFlare Inc.\",\"CloudFlare Inc.\",\"CloudFlare Inc.\",\"CloudFlare Inc.\",\"CloudFlare Inc.\",\"CloudFlare Inc.\",\"CloudFlare Inc.\",\"CloudFlare Inc.\",\"CloudFlare Inc.\",\"CloudFlare Inc.\",\"CloudFlare Inc.\",\"CloudFlare Inc.\",\"CloudFlare Inc.\",\"CloudFlare Inc.\",\"CloudFlare Inc.\",\"CloudFlare Inc.\",\"CloudFlare Inc.\",\"CloudFlare Inc.\",\"CloudFlare Inc.\",\"CloudFlare Inc.\",\"CloudFlare Inc.\",\"CloudFlare Inc.\",\"CloudFlare Inc.\",\"CloudFlare Inc.\",\"CloudFlare Inc.\",\"CloudFlare Inc.\",\"CloudFlare Inc.\",\"CloudFlare Inc.\",\"CloudFlare Inc.\",\"CloudFlare Inc.\",\"CloudFlare Inc.\",\"CloudFlare Inc.\",\"CloudFlare Inc.\",\"CloudFlare Inc.\",\"CloudFlare Inc.\",\"CloudFlare Inc.\",\"CloudFlare Inc.\",\"CloudFlare Inc.\",\"CloudFlare Inc.\",\"CloudFlare Inc.\",\"CloudFlare Inc.\"],\"lat\":[9.9570503235,32.1147003174,40.1473007202,23.5932998657,-33.9648017883,-22.0146007538,37.5583000183,25.7931995392,41.2971000671,44.8819999695,37.62189865,45.6795005798,49.0127983093,25.0776996613,47.5299987793,17.2313175201,-26.2425003052,-18.7968997955,19.0886993408,33.94250107,63.9850006104,53.8824996948,8.4821195602,49.9099998474,-12.021900177,-8.8583698273,54.6341018677,50.8658981323,47.4812134,-37.0080986023,-33.3930015564,-22.9104995728,47.8431015015,1.3604199886,10.6031169891,45.445098877,60.193901062,-20.4302005768,40.7883987427,-29.7705993652,21.3187007904,22.308889,-2.15741992,-31.9402999878,33.2625007629,38.2924003601,5.937210083,56.7430992126,40.9768981934,-34.9449996948,40.63980103,35.5522994995,-27.4702796,59.8003005981,-34.5592,55.4087982178,-41.3272018433,13.9125995636,-6.1255698204,19.4363002777,41.7859992981],\"legendgroup\":\"1.0.0.1\",\"lon\":[-84.1398010254,34.7821998596,44.3959007263,58.2844009399,18.6016998291,166.2129974365,126.791000366,-80.2906036377,2.0784599781,-93.2218017578,-97.26820374,-74.0386962891,2.5499999523,121.233001709,-122.3020019531,78.4298553467,28.1511993408,47.4788017273,72.8678970337,-118.4079971,-22.6056003571,28.0307006836,76.9200973511,-97.2398986816,-77.1143035889,13.2312002182,25.2858009338,7.1427397728,19.1303031,174.792007446,-70.7857971191,-43.1631011963,106.766998291,103.9100036621,-66.9905853271,9.2767400742,11.100399971,57.6836013794,-111.9779968262,31.0583992004,-157.9219970703,113.914722,-79.8835983276,115.9670028687,44.2346000671,27.156999588,116.0510025024,60.8027000427,28.8145999908,138.5310058594,-73.77890015,139.7799987793,153.023036,30.2625007629,-58.4156,37.9062995911,174.804992676,100.607002258,106.65599823,-99.0720977783,-87.7524032593],\"marker\":{\"color\":\"#636efa\",\"symbol\":\"circle\"},\"mode\":\"markers\",\"name\":\"1.0.0.1\",\"showlegend\":true,\"type\":\"scattergeo\"},{\"geo\":\"geo\",\"hovertemplate\":\"<b>%{hovertext}</b><br><br>ip_address=1.1.1.1<br>latitude=%{lat}<br>longitude=%{lon}<extra></extra>\",\"hovertext\":[\"CloudFlare Inc.\",\"CloudFlare Inc.\",\"CloudFlare Inc.\",\"CloudFlare Inc.\",\"CloudFlare Inc.\",\"CloudFlare Inc.\",\"CloudFlare Inc.\",\"CloudFlare Inc.\",\"CloudFlare Inc.\",\"CloudFlare Inc.\",\"CloudFlare Inc.\",\"CloudFlare Inc.\",\"CloudFlare Inc.\",\"CloudFlare Inc.\",\"CloudFlare Inc.\",\"CloudFlare Inc.\",\"CloudFlare Inc.\",\"CloudFlare Inc.\",\"CloudFlare Inc.\",\"CloudFlare Inc.\",\"CloudFlare Inc.\",\"CloudFlare Inc.\",\"CloudFlare Inc.\",\"CloudFlare Inc.\",\"CloudFlare Inc.\",\"CloudFlare Inc.\",\"CloudFlare Inc.\",\"CloudFlare Inc.\",\"CloudFlare Inc.\",\"CloudFlare Inc.\",\"CloudFlare Inc.\",\"CloudFlare Inc.\",\"CloudFlare Inc.\",\"CloudFlare Inc.\",\"CloudFlare Inc.\",\"CloudFlare Inc.\",\"CloudFlare Inc.\",\"CloudFlare Inc.\",\"CloudFlare Inc.\",\"CloudFlare Inc.\",\"CloudFlare Inc.\",\"CloudFlare Inc.\",\"CloudFlare Inc.\",\"CloudFlare Inc.\",\"CloudFlare Inc.\",\"CloudFlare Inc.\",\"CloudFlare Inc.\",\"CloudFlare Inc.\",\"CloudFlare Inc.\",\"CloudFlare Inc.\",\"CloudFlare Inc.\",\"CloudFlare Inc.\",\"CloudFlare Inc.\",\"CloudFlare Inc.\",\"CloudFlare Inc.\",\"CloudFlare Inc.\",\"CloudFlare Inc.\",\"CloudFlare Inc.\",\"CloudFlare Inc.\"],\"lat\":[9.9570503235,25.7931995392,32.1147003174,-33.9648017883,49.0127983093,40.1473007202,-22.0146007538,37.5583000183,23.5932998657,44.8819999695,41.2971000671,33.94250107,-25.4050998688,45.6795005798,25.0776996613,37.62189865,17.2313175201,-18.7968997955,19.0886993408,53.8824996948,47.8431015015,63.9850006104,8.4821195602,49.9099998474,-26.2425003052,-8.8583698273,50.8658981323,-12.021900177,-37.0080986023,47.4812134,-22.9104995728,-33.3930015564,10.6031169891,45.445098877,1.3604199886,60.193901062,40.7883987427,21.3187007904,-20.4302005768,-29.7705993652,22.308889,-31.9402999878,33.2625007629,38.2924003601,56.7430992126,40.9768981934,40.63980103,49.0741996765,3.54322,-34.9449996948,-27.4702796,-34.5592,55.4087982178,59.8003005981,50.3450012207,35.5522994995,13.9125995636,19.4363002777,41.7859992981],\"legendgroup\":\"1.1.1.1\",\"lon\":[-84.1398010254,-80.2906036377,34.7821998596,18.6016998291,2.5499999523,44.3959007263,166.2129974365,126.791000366,58.2844009399,-93.2218017578,2.0784599781,-118.4079971,-49.2319984436,-74.0386962891,121.233001709,-97.26820374,78.4298553467,47.4788017273,72.8678970337,28.0307006836,106.766998291,-22.6056003571,76.9200973511,-97.2398986816,28.1511993408,13.2312002182,7.1427397728,-77.1143035889,174.792007446,19.1303031,-43.1631011963,-70.7857971191,-66.9905853271,9.2767400742,103.9100036621,11.100399971,-111.9779968262,-157.9219970703,57.6836013794,31.0583992004,113.914722,115.9670028687,44.2346000671,27.156999588,60.8027000427,28.8145999908,-73.77890015,-123.012001038,-76.3816,138.5310058594,153.023036,-58.4156,37.9062995911,30.2625007629,30.8946990967,139.7799987793,100.607002258,-99.0720977783,-87.7524032593],\"marker\":{\"color\":\"#EF553B\",\"symbol\":\"circle\"},\"mode\":\"markers\",\"name\":\"1.1.1.1\",\"showlegend\":true,\"type\":\"scattergeo\"},{\"geo\":\"geo\",\"hovertemplate\":\"<b>%{hovertext}</b><br><br>ip_address=149.112.112.112<br>latitude=%{lat}<br>longitude=%{lon}<extra></extra>\",\"hovertext\":[\"Quad9\",\"Quad9\",\"Quad9\",\"Quad9\",\"Quad9\",\"Quad9\",\"Quad9\",\"Quad9\",\"Quad9\",\"Quad9\",\"Quad9\",\"Quad9\",\"Quad9\",\"Quad9\",\"Quad9\",\"Quad9\",\"Quad9\",\"Quad9\",\"Quad9\",\"Quad9\",\"Quad9\",\"Quad9\",\"Quad9\",\"Quad9\",\"Quad9\",\"Quad9\",\"Quad9\",\"Quad9\",\"Quad9\",\"Quad9\",\"Quad9\",\"Quad9\",\"Quad9\",\"Quad9\",\"Quad9\",\"Quad9\",\"Quad9\",\"Quad9\",\"Quad9\",\"Quad9\",\"Quad9\",\"Quad9\",\"Quad9\",\"Quad9\",\"Quad9\",\"Quad9\",\"Quad9\",\"Quad9\",\"Quad9\"],\"lat\":[25.0695,25.7931995392,47.5299987793,33.94250107,51.5052986145,44.8819999695,-6.8780555556,37.0775,49.0127983093,-25.2399997711,-4.3857498169,40.1473007202,41.2971000671,-33.3930015564,9.9570503235,24.9575996399,-26.2425003052,51.113899231,15.5895004272,-12.021900177,-4.0348300934,23.843347,50.8658981323,27.6965999603,1.3604199886,54.6341018677,37.62189865,-1.319239974,49.9099998474,-8.8583698273,47.4812134,40.7883987427,12.3531999588,45.445098877,33.8208999634,-29.7705993652,60.193901062,3.54322,-31.9402999878,41.7859992981,39.717300415,-22.6505,-34.5592,40.63980103,35.5522994995,-33.9244003296,19.0886993408,14.508600235,22.308889],\"legendgroup\":\"149.112.112.112\",\"lon\":[121.5785,-80.2906036377,-122.3020019531,-118.4079971,0.0552779995,-93.2218017578,39.2033333333,-113.6095,2.5499999523,-57.5200004578,15.4446001053,44.3959007263,2.0784599781,-70.7857971191,-84.1398010254,46.6987991333,28.1511993408,-114.019996643,32.5531997681,-77.1143035889,39.5942001343,90.397783,7.1427397728,85.3591003418,103.9100036621,25.2858009338,-97.26820374,36.9277992249,-97.2398986816,13.2312002182,19.1303031,-111.9779968262,-1.5124200583,9.2767400742,35.4883995056,31.0583992004,11.100399971,-76.3816,115.9670028687,-87.7524032593,-86.2944030762,14.5285,-58.4156,-73.77890015,139.7799987793,150.9880065918,72.8678970337,121.019996643,113.914722],\"marker\":{\"color\":\"#00cc96\",\"symbol\":\"circle\"},\"mode\":\"markers\",\"name\":\"149.112.112.112\",\"showlegend\":true,\"type\":\"scattergeo\"},{\"geo\":\"geo\",\"hovertemplate\":\"<b>%{hovertext}</b><br><br>ip_address=9.9.9.9<br>latitude=%{lat}<br>longitude=%{lon}<extra></extra>\",\"hovertext\":[\"Quad9\",\"Quad9\",\"Quad9\",\"Quad9\",\"Quad9\",\"Quad9\",\"Quad9\",\"Quad9\",\"Quad9\",\"Quad9\",\"Quad9\",\"Quad9\",\"Quad9\",\"Quad9\",\"Quad9\",\"Quad9\",\"Quad9\",\"Quad9\",\"Quad9\",\"Quad9\",\"Quad9\",\"Quad9\",\"Quad9\",\"Quad9\",\"Quad9\",\"Quad9\",\"Quad9\",\"Quad9\",\"Quad9\",\"Quad9\",\"Quad9\",\"Quad9\",\"Quad9\",\"Quad9\",\"Quad9\",\"Quad9\",\"Quad9\",\"Quad9\",\"Quad9\",\"Quad9\",\"Quad9\",\"Quad9\",\"Quad9\",\"Quad9\",\"Quad9\",\"Quad9\",\"Quad9\"],\"lat\":[25.0695,25.7931995392,47.5299987793,40.1473007202,-6.8780555556,41.2971000671,37.0775,51.5052986145,44.8819999695,-25.2399997711,-4.3857498169,49.0127983093,-33.3930015564,12.3531999588,15.5895004272,24.9575996399,33.94250107,-26.2425003052,51.113899231,49.9099998474,-4.0348300934,1.3501900434,-12.021900177,9.9570503235,50.8658981323,56.9235992432,23.843347,-1.319239974,47.4812134,25.591299057,40.7883987427,33.8208999634,-8.8583698273,45.445098877,19.0886993408,60.193901062,35.3931007385,-31.9402999878,40.9768981934,39.717300415,-22.6505,40.63980103,-20.4302005768,-34.5592,-33.9244003296,22.308889,14.508600235],\"legendgroup\":\"9.9.9.9\",\"lon\":[121.5785,-80.2906036377,-122.3020019531,44.3959007263,39.2033333333,2.0784599781,-113.6095,0.0552779995,-93.2218017578,-57.5200004578,15.4446001053,2.5499999523,-70.7857971191,-1.5124200583,32.5531997681,46.6987991333,-118.4079971,28.1511993408,-114.019996643,-97.2398986816,39.5942001343,103.9940032959,-77.1143035889,-84.1398010254,7.1427397728,23.9710998535,90.397783,36.9277992249,19.1303031,85.0879974365,-111.9779968262,35.4883995056,13.2312002182,9.2767400742,72.8678970337,11.100399971,-97.6007003784,115.9670028687,28.8145999908,-86.2944030762,14.5285,-73.77890015,57.6836013794,-58.4156,150.9880065918,113.914722,121.019996643],\"marker\":{\"color\":\"#ab63fa\",\"symbol\":\"circle\"},\"mode\":\"markers\",\"name\":\"9.9.9.9\",\"showlegend\":true,\"type\":\"scattergeo\"},{\"geo\":\"geo\",\"hovertemplate\":\"<b>%{hovertext}</b><br><br>ip_address=76.223.122.150<br>latitude=%{lat}<br>longitude=%{lon}<extra></extra>\",\"hovertext\":[\"Amazon.com Inc.\",\"Amazon.com Inc.\",\"Amazon.com Inc.\",\"Amazon.com Inc.\",\"Amazon.com Inc.\",\"Amazon.com Inc.\",\"Amazon.com Inc.\",\"Amazon.com Inc.\",\"Amazon.com Inc.\",\"Amazon.com Inc.\",\"Amazon.com Inc.\",\"Amazon.com Inc.\",\"Amazon.com Inc.\",\"Amazon.com Inc.\",\"Amazon.com Inc.\",\"Amazon.com Inc.\",\"Amazon.com Inc.\",\"Amazon.com Inc.\",\"Amazon.com Inc.\",\"Amazon.com Inc.\",\"Amazon.com Inc.\",\"Amazon.com Inc.\",\"Amazon.com Inc.\",\"Amazon.com Inc.\",\"Amazon.com Inc.\",\"Amazon.com Inc.\",\"Amazon.com Inc.\",\"Amazon.com Inc.\",\"Amazon.com Inc.\",\"Amazon.com Inc.\",\"Amazon.com Inc.\",\"Amazon.com Inc.\",\"Amazon.com Inc.\",\"Amazon.com Inc.\",\"Amazon.com Inc.\",\"Amazon.com Inc.\",\"Amazon.com Inc.\",\"Amazon.com Inc.\",\"Amazon.com Inc.\",\"Amazon.com Inc.\"],\"lat\":[48.9693984985,25.7931995392,25.1295,4.70159,47.5299987793,38.1759986877,37.5583000183,26.2707996368,12.9900054932,-33.9648017883,44.8819999695,51.5052986145,33.94250107,45.6795005798,44.5722007751,25.0776996613,8.4821195602,-33.4925,1.3501900434,22.308889,19.0886993408,47.4812134,-37.0080986023,-22.9104995728,50.8658981323,40.7883987427,60.193901062,34.4272994995,-31.9402999878,38.2924003601,40.4967002869,48.3538017273,-34.5592,41.7859992981,40.63980103,-26.2425003052,55.4087982178,59.8003005981,19.4363002777,29.9843997955],\"legendgroup\":\"76.223.122.150\",\"lon\":[2.4413900375,-80.2906036377,56.3395,-74.1469,-122.3020019531,13.0909996033,126.791000366,50.6335983276,80.1692962646,18.6016998291,-93.2218017578,0.0552779995,-118.4079971,-74.0386962891,26.1021995544,121.233001709,76.9200973511,143.2115,103.9940032959,113.914722,72.8678970337,19.1303031,174.792007446,-43.1631011963,7.1427397728,-111.9779968262,11.100399971,135.2440032959,115.9670028687,27.156999588,-3.4458699226,11.7861003876,-58.4156,-87.7524032593,-73.77890015,28.1511993408,37.9062995911,30.2625007629,-99.0720977783,-95.3414001465],\"marker\":{\"color\":\"#FFA15A\",\"symbol\":\"circle\"},\"mode\":\"markers\",\"name\":\"76.223.122.150\",\"showlegend\":true,\"type\":\"scattergeo\"},{\"geo\":\"geo\",\"hovertemplate\":\"<b>%{hovertext}</b><br><br>ip_address=76.76.19.19<br>latitude=%{lat}<br>longitude=%{lon}<extra></extra>\",\"hovertext\":[\"Amazon.com Inc.\",\"Amazon.com Inc.\",\"Amazon.com Inc.\",\"Amazon.com Inc.\",\"Amazon.com Inc.\",\"Amazon.com Inc.\",\"Amazon.com Inc.\",\"Amazon.com Inc.\",\"Amazon.com Inc.\",\"Amazon.com Inc.\",\"Amazon.com Inc.\",\"Amazon.com Inc.\",\"Amazon.com Inc.\",\"Amazon.com Inc.\",\"Amazon.com Inc.\",\"Amazon.com Inc.\",\"Amazon.com Inc.\",\"Amazon.com Inc.\",\"Amazon.com Inc.\",\"Amazon.com Inc.\",\"Amazon.com Inc.\",\"Amazon.com Inc.\",\"Amazon.com Inc.\",\"Amazon.com Inc.\",\"Amazon.com Inc.\",\"Amazon.com Inc.\",\"Amazon.com Inc.\",\"Amazon.com Inc.\",\"Amazon.com Inc.\",\"Amazon.com Inc.\",\"Amazon.com Inc.\",\"Amazon.com Inc.\",\"Amazon.com Inc.\",\"Amazon.com Inc.\",\"Amazon.com Inc.\",\"Amazon.com Inc.\",\"Amazon.com Inc.\",\"Amazon.com Inc.\",\"Amazon.com Inc.\",\"Amazon.com Inc.\",\"Amazon.com Inc.\",\"Amazon.com Inc.\"],\"lat\":[48.9693984985,25.1295,4.70159,25.7931995392,38.1759986877,26.2707996368,47.5299987793,12.9900054932,37.5583000183,-33.9648017883,44.8819999695,51.5052986145,33.94250107,44.5722007751,25.0776996613,45.6795005798,-33.4925,8.4821195602,-37.0080986023,19.0886993408,-22.9104995728,22.308889,40.7883987427,48.3538017273,47.4812134,60.193901062,-23.6261100769,41.2971000671,40.63980103,34.4272994995,-31.9402999878,38.2924003601,-34.5592,-26.2425003052,55.4087982178,59.8003005981,23.843347,1.3501900434,29.9843997955,39.717300415,-41.3272018433,19.4363002777],\"legendgroup\":\"76.76.19.19\",\"lon\":[2.4413900375,56.3395,-74.1469,-80.2906036377,13.0909996033,50.6335983276,-122.3020019531,80.1692962646,126.791000366,18.6016998291,-93.2218017578,0.0552779995,-118.4079971,26.1021995544,121.233001709,-74.0386962891,143.2115,76.9200973511,174.792007446,72.8678970337,-43.1631011963,113.914722,-111.9779968262,11.7861003876,19.1303031,11.100399971,-46.6563873291,2.0784599781,-73.77890015,135.2440032959,115.9670028687,27.156999588,-58.4156,28.1511993408,37.9062995911,30.2625007629,90.397783,103.9940032959,-95.3414001465,-86.2944030762,174.804992676,-99.0720977783],\"marker\":{\"color\":\"#19d3f3\",\"symbol\":\"circle\"},\"mode\":\"markers\",\"name\":\"76.76.19.19\",\"showlegend\":true,\"type\":\"scattergeo\"},{\"geo\":\"geo\",\"hovertemplate\":\"<b>%{hovertext}</b><br><br>ip_address=208.67.222.222<br>latitude=%{lat}<br>longitude=%{lon}<extra></extra>\",\"hovertext\":[\"Cisco OpenDNS LLC\",\"Cisco OpenDNS LLC\",\"Cisco OpenDNS LLC\",\"Cisco OpenDNS LLC\",\"Cisco OpenDNS LLC\",\"Cisco OpenDNS LLC\",\"Cisco OpenDNS LLC\",\"Cisco OpenDNS LLC\",\"Cisco OpenDNS LLC\",\"Cisco OpenDNS LLC\",\"Cisco OpenDNS LLC\",\"Cisco OpenDNS LLC\",\"Cisco OpenDNS LLC\",\"Cisco OpenDNS LLC\",\"Cisco OpenDNS LLC\",\"Cisco OpenDNS LLC\",\"Cisco OpenDNS LLC\",\"Cisco OpenDNS LLC\",\"Cisco OpenDNS LLC\",\"Cisco OpenDNS LLC\",\"Cisco OpenDNS LLC\",\"Cisco OpenDNS LLC\",\"Cisco OpenDNS LLC\",\"Cisco OpenDNS LLC\",\"Cisco OpenDNS LLC\",\"Cisco OpenDNS LLC\"],\"lat\":[47.5299987793,25.7931995392,-33.9648017883,49.0127983093,-22.8099994659,51.5286416,-34.2291984558,55.6179008484,50.8658981323,22.308889,1.3604199886,19.0886993408,40.63980103,40.4967002869,41.799444,35.5522994995,-26.2425003052,41.7859992981,55.8782997131,47.4812134,33.94250107,24.7098007202,19.4363002777,29.9843997955,31.636100769,-33.9244003296],\"legendgroup\":\"208.67.222.222\",\"lon\":[-122.3020019531,-80.2906036377,18.6016998291,2.5499999523,-43.2505569458,-0.1015987,142.085998535,12.6560001373,7.1427397728,113.914722,103.9100036621,72.8678970337,-73.77890015,-3.4458699226,12.597222,139.7799987793,28.1511993408,-87.7524032593,38.0616989136,19.1303031,-118.4079971,46.7252006531,-99.0720977783,-95.3414001465,-106.4290008545,150.9880065918],\"marker\":{\"color\":\"#FF6692\",\"symbol\":\"circle\"},\"mode\":\"markers\",\"name\":\"208.67.222.222\",\"showlegend\":true,\"type\":\"scattergeo\"},{\"geo\":\"geo\",\"hovertemplate\":\"<b>%{hovertext}</b><br><br>ip_address=208.67.220.220<br>latitude=%{lat}<br>longitude=%{lon}<extra></extra>\",\"hovertext\":[\"Cisco OpenDNS LLC\",\"Cisco OpenDNS LLC\",\"Cisco OpenDNS LLC\",\"Cisco OpenDNS LLC\",\"Cisco OpenDNS LLC\",\"Cisco OpenDNS LLC\",\"Cisco OpenDNS LLC\",\"Cisco OpenDNS LLC\",\"Cisco OpenDNS LLC\",\"Cisco OpenDNS LLC\",\"Cisco OpenDNS LLC\",\"Cisco OpenDNS LLC\",\"Cisco OpenDNS LLC\",\"Cisco OpenDNS LLC\",\"Cisco OpenDNS LLC\",\"Cisco OpenDNS LLC\",\"Cisco OpenDNS LLC\",\"Cisco OpenDNS LLC\",\"Cisco OpenDNS LLC\",\"Cisco OpenDNS LLC\",\"Cisco OpenDNS LLC\",\"Cisco OpenDNS LLC\",\"Cisco OpenDNS LLC\",\"Cisco OpenDNS LLC\",\"Cisco OpenDNS LLC\"],\"lat\":[47.5299987793,25.7931995392,-33.9648017883,49.0127983093,-22.8099994659,51.5286416,-34.2291984558,50.8658981323,1.3604199886,22.308889,55.6179008484,19.0886993408,47.4812134,40.63980103,40.9768981934,40.4967002869,41.799444,-26.2425003052,41.7859992981,35.5522994995,33.94250107,29.9843997955,24.7098007202,31.636100769,-33.9244003296],\"legendgroup\":\"208.67.220.220\",\"lon\":[-122.3020019531,-80.2906036377,18.6016998291,2.5499999523,-43.2505569458,-0.1015987,142.085998535,7.1427397728,103.9100036621,113.914722,12.6560001373,72.8678970337,19.1303031,-73.77890015,28.8145999908,-3.4458699226,12.597222,28.1511993408,-87.7524032593,139.7799987793,-118.4079971,-95.3414001465,46.7252006531,-106.4290008545,150.9880065918],\"marker\":{\"color\":\"#B6E880\",\"symbol\":\"circle\"},\"mode\":\"markers\",\"name\":\"208.67.220.220\",\"showlegend\":true,\"type\":\"scattergeo\"},{\"geo\":\"geo\",\"hovertemplate\":\"<b>%{hovertext}</b><br><br>ip_address=8.8.4.4<br>latitude=%{lat}<br>longitude=%{lon}<extra></extra>\",\"hovertext\":[\"Google LLC\",\"Google LLC\",\"Google LLC\",\"Google LLC\",\"Google LLC\",\"Google LLC\",\"Google LLC\",\"Google LLC\",\"Google LLC\",\"Google LLC\",\"Google LLC\",\"Google LLC\",\"Google LLC\",\"Google LLC\",\"Google LLC\",\"Google LLC\",\"Google LLC\",\"Google LLC\",\"Google LLC\",\"Google LLC\",\"Google LLC\",\"Google LLC\",\"Google LLC\",\"Google LLC\",\"Google LLC\",\"Google LLC\",\"Google LLC\",\"Google LLC\",\"Google LLC\",\"Google LLC\",\"Google LLC\",\"Google LLC\",\"Google LLC\",\"Google LLC\",\"Google LLC\",\"Google LLC\",\"Google LLC\",\"Google LLC\",\"Google LLC\",\"Google LLC\",\"Google LLC\"],\"lat\":[25.1295,4.70159,47.5299987793,-33.3930015564,25.0776996613,51.5052986145,25.7931995392,49.0127983093,45.6795005798,32.89860153,33.94250107,12.9900054932,44.2541008,-33.4925,8.4821195602,-22.8099994659,-4.0348300934,19.0886993408,50.8658981323,-26.2425003052,52.1656990051,23.5932998657,1.3604199886,22.308889,-18.7968997955,28.6070051,47.4812134,45.2008018494,34.4272994995,40.63980103,19.4363002777,40.9768981934,59.8003005981,40.4967002869,52.5597000122,-34.5592,41.7859992981,29.9843997955,31.636100769,-33.9244003296,6.5773701668],\"legendgroup\":\"8.8.4.4\",\"lon\":[56.3395,-74.1469,-122.3020019531,-70.7857971191,121.233001709,0.0552779995,-80.2906036377,2.5499999523,-74.0386962891,-80.04049683,-118.4079971,80.1692962646,-121.1500015,143.2115,76.9200973511,-43.2505569458,39.5942001343,72.8678970337,7.1427397728,28.1511993408,20.9671001434,58.2844009399,103.9100036621,113.914722,47.4788017273,77.2140499,19.1303031,7.6496300697,135.2440032959,-73.77890015,-99.0720977783,28.8145999908,30.2625007629,-3.4458699226,13.2876996994,-58.4156,-87.7524032593,-95.3414001465,-106.4290008545,150.9880065918,3.321160078],\"marker\":{\"color\":\"#FF97FF\",\"symbol\":\"circle\"},\"mode\":\"markers\",\"name\":\"8.8.4.4\",\"showlegend\":true,\"type\":\"scattergeo\"},{\"geo\":\"geo\",\"hovertemplate\":\"<b>%{hovertext}</b><br><br>ip_address=8.8.8.8<br>latitude=%{lat}<br>longitude=%{lon}<extra></extra>\",\"hovertext\":[\"Google LLC\",\"Google LLC\",\"Google LLC\",\"Google LLC\",\"Google LLC\",\"Google LLC\",\"Google LLC\",\"Google LLC\",\"Google LLC\",\"Google LLC\",\"Google LLC\",\"Google LLC\",\"Google LLC\",\"Google LLC\",\"Google LLC\",\"Google LLC\",\"Google LLC\",\"Google LLC\",\"Google LLC\",\"Google LLC\",\"Google LLC\",\"Google LLC\",\"Google LLC\",\"Google LLC\",\"Google LLC\",\"Google LLC\",\"Google LLC\",\"Google LLC\",\"Google LLC\",\"Google LLC\",\"Google LLC\",\"Google LLC\",\"Google LLC\",\"Google LLC\",\"Google LLC\",\"Google LLC\",\"Google LLC\",\"Google LLC\",\"Google LLC\",\"Google LLC\",\"Google LLC\",\"Google LLC\",\"Google LLC\",\"Google LLC\",\"Google LLC\"],\"lat\":[25.1295,4.70159,47.5299987793,33.94250107,25.7931995392,45.6795005798,25.0776996613,-33.3930015564,32.89860153,49.0127983093,12.9900054932,44.2541008,-22.8099994659,51.5286416,-18.7968997955,-4.0348300934,8.4821195602,50.8658981323,47.4812134,-26.2425003052,23.5932998657,1.3604199886,-34.2291984558,28.6070051,19.0886993408,52.4510993958,45.2008018494,-23.6261100769,22.308889,40.63980103,48.5696983337,34.4272994995,59.8003005981,19.4363002777,40.9768981934,52.5597000122,41.8045005798,40.4967002869,-34.5592,29.9843997955,43.6274986267,41.7859992981,31.636100769,-33.9244003296,6.5773701668],\"legendgroup\":\"8.8.8.8\",\"lon\":[56.3395,-74.1469,-122.3020019531,-118.4079971,-80.2906036377,-74.0386962891,121.233001709,-70.7857971191,-80.04049683,2.5499999523,80.1692962646,-121.1500015,-43.2505569458,-0.1015987,47.4788017273,39.5942001343,76.9200973511,7.1427397728,19.1303031,28.1511993408,58.2844009399,103.9100036621,142.085998535,77.2140499,72.8678970337,20.6518001556,7.6496300697,-46.6563873291,113.914722,-73.77890015,-81.376701355,135.2440032959,30.2625007629,-99.0720977783,28.8145999908,13.2876996994,12.2508001328,-3.4458699226,-58.4156,-95.3414001465,-79.3962020874,-87.7524032593,-106.4290008545,150.9880065918,3.321160078],\"marker\":{\"color\":\"#FECB52\",\"symbol\":\"circle\"},\"mode\":\"markers\",\"name\":\"8.8.8.8\",\"showlegend\":true,\"type\":\"scattergeo\"},{\"geo\":\"geo\",\"hovertemplate\":\"<b>%{hovertext}</b><br><br>ip_address=76.76.10.0<br>latitude=%{lat}<br>longitude=%{lon}<extra></extra>\",\"hovertext\":[\"Controld Inc.\",\"Controld Inc.\",\"Controld Inc.\",\"Controld Inc.\",\"Controld Inc.\",\"Controld Inc.\",\"Controld Inc.\",\"Controld Inc.\",\"Controld Inc.\",\"Controld Inc.\",\"Controld Inc.\",\"Controld Inc.\",\"Controld Inc.\",\"Controld Inc.\",\"Controld Inc.\"],\"lat\":[25.7931995392,51.113899231,50.8658981323,-26.2425003052,1.3604199886,-23.6261100769,49.0741996765,35.5522994995,43.7425003052,59.8003005981,40.898601532,35.4160995483,33.94250107,29.9843997955,-33.9244003296],\"legendgroup\":\"76.76.10.0\",\"lon\":[-80.2906036377,-114.019996643,7.1427397728,28.1511993408,103.9100036621,-46.6563873291,-123.012001038,139.7799987793,-79.4655990601,30.2625007629,29.3092002869,51.1521987915,-118.4079971,-95.3414001465,150.9880065918],\"marker\":{\"color\":\"#636efa\",\"symbol\":\"circle\"},\"mode\":\"markers\",\"name\":\"76.76.10.0\",\"showlegend\":true,\"type\":\"scattergeo\"},{\"geo\":\"geo\",\"hovertemplate\":\"<b>%{hovertext}</b><br><br>ip_address=64.6.65.6<br>latitude=%{lat}<br>longitude=%{lon}<extra></extra>\",\"hovertext\":[\"UltraDNS\",\"UltraDNS\",\"UltraDNS\",\"UltraDNS\",\"UltraDNS\",\"UltraDNS\",\"UltraDNS\",\"UltraDNS\",\"UltraDNS\",\"UltraDNS\",\"UltraDNS\",\"UltraDNS\",\"UltraDNS\",\"UltraDNS\",\"UltraDNS\",\"UltraDNS\",\"UltraDNS\",\"UltraDNS\",\"UltraDNS\",\"UltraDNS\"],\"lat\":[48.9693984985,25.7931995392,4.70159,25.1295,33.94250107,39.7827987671,51.5286416,50.8658981323,1.3604199886,-23.6261100769,37.7468986511,31.1434001923,40.63980103,52.5597000122,32.8470993042,59.3544006348,-26.2425003052,35.5522994995,-33.9244003296,19.0886993408],\"legendgroup\":\"64.6.65.6\",\"lon\":[2.4413900375,-80.2906036377,-74.1469,56.3395,-118.4079971,116.3880004883,-0.1015987,7.1427397728,103.9100036621,-46.6563873291,112.6279983521,121.8050003052,-73.77890015,13.2876996994,-96.8517990112,17.9416999817,28.1511993408,139.7799987793,150.9880065918,72.8678970337],\"marker\":{\"color\":\"#EF553B\",\"symbol\":\"circle\"},\"mode\":\"markers\",\"name\":\"64.6.65.6\",\"showlegend\":true,\"type\":\"scattergeo\"},{\"geo\":\"geo\",\"hovertemplate\":\"<b>%{hovertext}</b><br><br>ip_address=76.76.2.0<br>latitude=%{lat}<br>longitude=%{lon}<extra></extra>\",\"hovertext\":[\"Controld Inc.\",\"Controld Inc.\",\"Controld Inc.\",\"Controld Inc.\",\"Controld Inc.\",\"Controld Inc.\",\"Controld Inc.\",\"Controld Inc.\",\"Controld Inc.\",\"Controld Inc.\",\"Controld Inc.\",\"Controld Inc.\",\"Controld Inc.\",\"Controld Inc.\",\"Controld Inc.\",\"Controld Inc.\"],\"lat\":[25.7931995392,51.113899231,50.8658981323,1.3604199886,-26.2425003052,-23.6261100769,49.0741996765,19.0886993408,35.5522994995,43.7425003052,29.9843997955,59.8003005981,24.7098007202,40.898601532,33.94250107,-33.9244003296],\"legendgroup\":\"76.76.2.0\",\"lon\":[-80.2906036377,-114.019996643,7.1427397728,103.9100036621,28.1511993408,-46.6563873291,-123.012001038,72.8678970337,139.7799987793,-79.4655990601,-95.3414001465,30.2625007629,46.7252006531,29.3092002869,-118.4079971,150.9880065918],\"marker\":{\"color\":\"#00cc96\",\"symbol\":\"circle\"},\"mode\":\"markers\",\"name\":\"76.76.2.0\",\"showlegend\":true,\"type\":\"scattergeo\"},{\"geo\":\"geo\",\"hovertemplate\":\"<b>%{hovertext}</b><br><br>ip_address=8.26.56.26<br>latitude=%{lat}<br>longitude=%{lon}<extra></extra>\",\"hovertext\":[\"NuCDN LLC\",\"NuCDN LLC\",\"NuCDN LLC\",\"NuCDN LLC\",\"NuCDN LLC\",\"NuCDN LLC\",\"NuCDN LLC\",\"NuCDN LLC\",\"NuCDN LLC\",\"NuCDN LLC\",\"NuCDN LLC\"],\"lat\":[47.5299987793,25.7931995392,49.0127983093,51.5052986145,33.94250107,37.5583000183,50.8658981323,1.3604199886,41.7859992981,29.9843997955,-33.9244003296],\"legendgroup\":\"8.26.56.26\",\"lon\":[-122.3020019531,-80.2906036377,2.5499999523,0.0552779995,-118.4079971,126.791000366,7.1427397728,103.9100036621,-87.7524032593,-95.3414001465,150.9880065918],\"marker\":{\"color\":\"#ab63fa\",\"symbol\":\"circle\"},\"mode\":\"markers\",\"name\":\"8.26.56.26\",\"showlegend\":true,\"type\":\"scattergeo\"},{\"geo\":\"geo\",\"hovertemplate\":\"<b>%{hovertext}</b><br><br>ip_address=74.82.42.42<br>latitude=%{lat}<br>longitude=%{lon}<extra></extra>\",\"hovertext\":[\"Hurricane Electric LLC\",\"Hurricane Electric LLC\",\"Hurricane Electric LLC\",\"Hurricane Electric LLC\",\"Hurricane Electric LLC\",\"Hurricane Electric LLC\",\"Hurricane Electric LLC\",\"Hurricane Electric LLC\",\"Hurricane Electric LLC\",\"Hurricane Electric LLC\",\"Hurricane Electric LLC\",\"Hurricane Electric LLC\",\"Hurricane Electric LLC\",\"Hurricane Electric LLC\",\"Hurricane Electric LLC\",\"Hurricane Electric LLC\",\"Hurricane Electric LLC\",\"Hurricane Electric LLC\",\"Hurricane Electric LLC\",\"Hurricane Electric LLC\",\"Hurricane Electric LLC\",\"Hurricane Electric LLC\"],\"lat\":[47.5299987793,49.0127983093,51.5052986145,33.94250107,37.62189865,25.7931995392,51.113899231,49.9099998474,1.3604199886,47.4812134,50.8658981323,45.445098877,22.308889,52.5597000122,-26.2425003052,40.63980103,59.8003005981,33.2625007629,40.4936,-33.9244003296,37.4691009521,21.3187007904],\"legendgroup\":\"74.82.42.42\",\"lon\":[-122.3020019531,2.5499999523,0.0552779995,-118.4079971,-97.26820374,-80.2906036377,-114.019996643,-97.2398986816,103.9100036621,19.1303031,7.1427397728,9.2767400742,113.914722,13.2876996994,28.1511993408,-73.77890015,30.2625007629,44.2346000671,-3.56676,150.9880065918,126.4509963989,-157.9219970703],\"marker\":{\"color\":\"#FFA15A\",\"symbol\":\"circle\"},\"mode\":\"markers\",\"name\":\"74.82.42.42\",\"showlegend\":true,\"type\":\"scattergeo\"},{\"geo\":\"geo\",\"hovertemplate\":\"<b>%{hovertext}</b><br><br>ip_address=195.46.39.39<br>latitude=%{lat}<br>longitude=%{lon}<extra></extra>\",\"hovertext\":[\"SafeDNS Inc.\",\"SafeDNS Inc.\",\"SafeDNS Inc.\",\"SafeDNS Inc.\",\"SafeDNS Inc.\",\"SafeDNS Inc.\",\"SafeDNS Inc.\",\"SafeDNS Inc.\",\"SafeDNS Inc.\",\"SafeDNS Inc.\",\"SafeDNS Inc.\",\"SafeDNS Inc.\",\"SafeDNS Inc.\"],\"lat\":[49.0127983093,47.5299987793,33.94250107,51.5286416,37.5583000183,50.8658981323,-26.2425003052,40.63980103,-33.9244003296,-6.1255698204,19.0886993408,-34.5592,18.4297008514],\"legendgroup\":\"195.46.39.39\",\"lon\":[2.5499999523,-122.3020019531,-118.4079971,-0.1015987,126.791000366,7.1427397728,28.1511993408,-73.77890015,150.9880065918,106.65599823,72.8678970337,-58.4156,-69.6688995361],\"marker\":{\"color\":\"#19d3f3\",\"symbol\":\"circle\"},\"mode\":\"markers\",\"name\":\"195.46.39.39\",\"showlegend\":true,\"type\":\"scattergeo\"},{\"geo\":\"geo\",\"hovertemplate\":\"<b>%{hovertext}</b><br><br>ip_address=195.46.39.40<br>latitude=%{lat}<br>longitude=%{lon}<extra></extra>\",\"hovertext\":[\"SafeDNS Inc.\",\"SafeDNS Inc.\",\"SafeDNS Inc.\",\"SafeDNS Inc.\",\"SafeDNS Inc.\",\"SafeDNS Inc.\",\"SafeDNS Inc.\",\"SafeDNS Inc.\",\"SafeDNS Inc.\",\"SafeDNS Inc.\",\"SafeDNS Inc.\",\"SafeDNS Inc.\",\"SafeDNS Inc.\"],\"lat\":[49.0127983093,47.5299987793,33.94250107,51.5286416,37.5583000183,50.8658981323,-26.2425003052,40.63980103,-33.9244003296,-6.1255698204,19.0886993408,-34.5592,18.4297008514],\"legendgroup\":\"195.46.39.40\",\"lon\":[2.5499999523,-122.3020019531,-118.4079971,-0.1015987,126.791000366,7.1427397728,28.1511993408,-73.77890015,150.9880065918,106.65599823,72.8678970337,-58.4156,-69.6688995361],\"marker\":{\"color\":\"#FF6692\",\"symbol\":\"circle\"},\"mode\":\"markers\",\"name\":\"195.46.39.40\",\"showlegend\":true,\"type\":\"scattergeo\"},{\"geo\":\"geo\",\"hovertemplate\":\"<b>%{hovertext}</b><br><br>ip_address=185.228.168.9<br>latitude=%{lat}<br>longitude=%{lon}<extra></extra>\",\"hovertext\":[\"Daniel Cid\",\"Daniel Cid\",\"Daniel Cid\",\"Daniel Cid\",\"Daniel Cid\",\"Daniel Cid\",\"Daniel Cid\",\"Daniel Cid\",\"Daniel Cid\",\"Daniel Cid\",\"Daniel Cid\",\"Daniel Cid\",\"Daniel Cid\",\"Daniel Cid\",\"Daniel Cid\",\"Daniel Cid\",\"Daniel Cid\",\"Daniel Cid\"],\"lat\":[25.7931995392,51.5052986145,49.0127983093,33.94250107,32.8093986511,-34.2291984558,37.5583000183,50.8658981323,-23.5090999603,40.4967002869,49.0741996765,59.8003005981,40.63980103,52.3800010681,41.7859992981,19.4363002777,-6.1255698204,-33.9244003296],\"legendgroup\":\"185.228.168.9\",\"lon\":[-80.2906036377,0.0552779995,2.5499999523,-118.4079971,35.0430984497,142.085998535,126.791000366,7.1427397728,-46.6377983093,-3.4458699226,-123.012001038,30.2625007629,-73.77890015,13.5225000381,-87.7524032593,-99.0720977783,106.65599823,150.9880065918],\"marker\":{\"color\":\"#B6E880\",\"symbol\":\"circle\"},\"mode\":\"markers\",\"name\":\"185.228.168.9\",\"showlegend\":true,\"type\":\"scattergeo\"},{\"geo\":\"geo\",\"hovertemplate\":\"<b>%{hovertext}</b><br><br>ip_address=134.195.4.2<br>latitude=%{lat}<br>longitude=%{lon}<extra></extra>\",\"hovertext\":[\"NextGI LLC.\",\"NextGI LLC.\",\"NextGI LLC.\",\"NextGI LLC.\"],\"lat\":[37.5583000183,51.5530014038,40.63980103,33.94250107],\"legendgroup\":\"134.195.4.2\",\"lon\":[126.791000366,-0.418166995,-73.77890015,-118.4079971],\"marker\":{\"color\":\"#FF97FF\",\"symbol\":\"circle\"},\"mode\":\"markers\",\"name\":\"134.195.4.2\",\"showlegend\":true,\"type\":\"scattergeo\"},{\"geo\":\"geo\",\"hovertemplate\":\"<b>%{hovertext}</b><br><br>ip_address=8.20.247.20<br>latitude=%{lat}<br>longitude=%{lon}<extra></extra>\",\"hovertext\":[\"NuCDN LLC\",\"NuCDN LLC\",\"NuCDN LLC\",\"NuCDN LLC\",\"NuCDN LLC\",\"NuCDN LLC\",\"NuCDN LLC\",\"NuCDN LLC\",\"NuCDN LLC\",\"NuCDN LLC\",\"NuCDN LLC\"],\"lat\":[47.5299987793,25.7931995392,49.0127983093,51.5052986145,33.94250107,37.5583000183,50.8658981323,1.3604199886,41.7859992981,29.9843997955,-33.9244003296],\"legendgroup\":\"8.20.247.20\",\"lon\":[-122.3020019531,-80.2906036377,2.5499999523,0.0552779995,-118.4079971,126.791000366,7.1427397728,103.9100036621,-87.7524032593,-95.3414001465,150.9880065918],\"marker\":{\"color\":\"#FECB52\",\"symbol\":\"circle\"},\"mode\":\"markers\",\"name\":\"8.20.247.20\",\"showlegend\":true,\"type\":\"scattergeo\"},{\"geo\":\"geo\",\"hovertemplate\":\"<b>%{hovertext}</b><br><br>ip_address=94.140.15.15<br>latitude=%{lat}<br>longitude=%{lon}<extra></extra>\",\"hovertext\":[\"AdGuard Software Limited\",\"AdGuard Software Limited\",\"AdGuard Software Limited\",\"AdGuard Software Limited\",\"AdGuard Software Limited\",\"AdGuard Software Limited\",\"AdGuard Software Limited\",\"AdGuard Software Limited\",\"AdGuard Software Limited\",\"AdGuard Software Limited\",\"AdGuard Software Limited\"],\"lat\":[25.7931995392,50.8658981323,1.3604199886,52.5597000122,35.5522994995,40.63980103,59.8003005981,40.898601532,-33.9244003296,33.94250107,41.7859992981],\"legendgroup\":\"94.140.15.15\",\"lon\":[-80.2906036377,7.1427397728,103.9100036621,13.2876996994,139.7799987793,-73.77890015,30.2625007629,29.3092002869,150.9880065918,-118.4079971,-87.7524032593],\"marker\":{\"color\":\"#636efa\",\"symbol\":\"circle\"},\"mode\":\"markers\",\"name\":\"94.140.15.15\",\"showlegend\":true,\"type\":\"scattergeo\"},{\"geo\":\"geo\",\"hovertemplate\":\"<b>%{hovertext}</b><br><br>ip_address=94.140.14.14<br>latitude=%{lat}<br>longitude=%{lon}<extra></extra>\",\"hovertext\":[\"AdGuard Software Limited\",\"AdGuard Software Limited\",\"AdGuard Software Limited\",\"AdGuard Software Limited\",\"AdGuard Software Limited\",\"AdGuard Software Limited\",\"AdGuard Software Limited\",\"AdGuard Software Limited\",\"AdGuard Software Limited\",\"AdGuard Software Limited\"],\"lat\":[25.7931995392,50.8658981323,1.3604199886,52.5597000122,35.5522994995,59.8003005981,41.7859992981,40.898601532,-33.9244003296,33.94250107],\"legendgroup\":\"94.140.14.14\",\"lon\":[-80.2906036377,7.1427397728,103.9100036621,13.2876996994,139.7799987793,30.2625007629,-87.7524032593,29.3092002869,150.9880065918,-118.4079971],\"marker\":{\"color\":\"#EF553B\",\"symbol\":\"circle\"},\"mode\":\"markers\",\"name\":\"94.140.14.14\",\"showlegend\":true,\"type\":\"scattergeo\"},{\"geo\":\"geo\",\"hovertemplate\":\"<b>%{hovertext}</b><br><br>ip_address=64.6.64.6<br>latitude=%{lat}<br>longitude=%{lon}<extra></extra>\",\"hovertext\":[\"UltraDNS\",\"UltraDNS\",\"UltraDNS\",\"UltraDNS\",\"UltraDNS\",\"UltraDNS\",\"UltraDNS\",\"UltraDNS\",\"UltraDNS\",\"UltraDNS\",\"UltraDNS\",\"UltraDNS\",\"UltraDNS\",\"UltraDNS\",\"UltraDNS\",\"UltraDNS\",\"UltraDNS\",\"UltraDNS\",\"UltraDNS\"],\"lat\":[25.1295,48.9693984985,25.7931995392,4.70159,25.0695,47.5299987793,39.7827987671,19.0886993408,28.6070051,22.308889,-23.6261100769,34.376701355,40.4967002869,31.1434001923,52.3800010681,-26.2425003052,33.94250107,41.7859992981,-33.9244003296],\"legendgroup\":\"64.6.64.6\",\"lon\":[56.3395,2.4413900375,-80.2906036377,-74.1469,121.5785,-122.3020019531,116.3880004883,72.8678970337,77.2140499,113.914722,-46.6563873291,109.1200027466,-3.4458699226,121.8050003052,13.5225000381,28.1511993408,-118.4079971,-87.7524032593,150.9880065918],\"marker\":{\"color\":\"#00cc96\",\"symbol\":\"circle\"},\"mode\":\"markers\",\"name\":\"64.6.64.6\",\"showlegend\":true,\"type\":\"scattergeo\"},{\"geo\":\"geo\",\"hovertemplate\":\"<b>%{hovertext}</b><br><br>ip_address=185.228.169.9<br>latitude=%{lat}<br>longitude=%{lon}<extra></extra>\",\"hovertext\":[\"Daniel Cid\",\"Daniel Cid\",\"Daniel Cid\",\"Daniel Cid\",\"Daniel Cid\",\"Daniel Cid\",\"Daniel Cid\"],\"lat\":[37.62189865,51.3307991028,33.94250107,49.0741996765,40.63980103,-33.9244003296,31.1979007721],\"legendgroup\":\"185.228.169.9\",\"lon\":[-97.26820374,0.0324999988,-118.4079971,-123.012001038,-73.77890015,150.9880065918,121.3359985352],\"marker\":{\"color\":\"#ab63fa\",\"symbol\":\"circle\"},\"mode\":\"markers\",\"name\":\"185.228.169.9\",\"showlegend\":true,\"type\":\"scattergeo\"},{\"geo\":\"geo\",\"hovertemplate\":\"<b>%{hovertext}</b><br><br>ip_address=216.146.35.35<br>latitude=%{lat}<br>longitude=%{lon}<extra></extra>\",\"hovertext\":[\"Oracle Corporation\",\"Oracle Corporation\",\"Oracle Corporation\"],\"lat\":[51.5286416,41.7859992981,40.63980103],\"legendgroup\":\"216.146.35.35\",\"lon\":[-0.1015987,-87.7524032593,-73.77890015],\"marker\":{\"color\":\"#FFA15A\",\"symbol\":\"circle\"},\"mode\":\"markers\",\"name\":\"216.146.35.35\",\"showlegend\":true,\"type\":\"scattergeo\"},{\"geo\":\"geo\",\"hovertemplate\":\"<b>%{hovertext}</b><br><br>ip_address=216.146.36.36<br>latitude=%{lat}<br>longitude=%{lon}<extra></extra>\",\"hovertext\":[\"Oracle Corporation\",\"Oracle Corporation\",\"Oracle Corporation\"],\"lat\":[51.5286416,41.7859992981,40.63980103],\"legendgroup\":\"216.146.36.36\",\"lon\":[-0.1015987,-87.7524032593,-73.77890015],\"marker\":{\"color\":\"#19d3f3\",\"symbol\":\"circle\"},\"mode\":\"markers\",\"name\":\"216.146.36.36\",\"showlegend\":true,\"type\":\"scattergeo\"}],                        {\"template\":{\"data\":{\"histogram2dcontour\":[{\"type\":\"histogram2dcontour\",\"colorbar\":{\"outlinewidth\":0,\"ticks\":\"\"},\"colorscale\":[[0.0,\"#0d0887\"],[0.1111111111111111,\"#46039f\"],[0.2222222222222222,\"#7201a8\"],[0.3333333333333333,\"#9c179e\"],[0.4444444444444444,\"#bd3786\"],[0.5555555555555556,\"#d8576b\"],[0.6666666666666666,\"#ed7953\"],[0.7777777777777778,\"#fb9f3a\"],[0.8888888888888888,\"#fdca26\"],[1.0,\"#f0f921\"]]}],\"choropleth\":[{\"type\":\"choropleth\",\"colorbar\":{\"outlinewidth\":0,\"ticks\":\"\"}}],\"histogram2d\":[{\"type\":\"histogram2d\",\"colorbar\":{\"outlinewidth\":0,\"ticks\":\"\"},\"colorscale\":[[0.0,\"#0d0887\"],[0.1111111111111111,\"#46039f\"],[0.2222222222222222,\"#7201a8\"],[0.3333333333333333,\"#9c179e\"],[0.4444444444444444,\"#bd3786\"],[0.5555555555555556,\"#d8576b\"],[0.6666666666666666,\"#ed7953\"],[0.7777777777777778,\"#fb9f3a\"],[0.8888888888888888,\"#fdca26\"],[1.0,\"#f0f921\"]]}],\"heatmap\":[{\"type\":\"heatmap\",\"colorbar\":{\"outlinewidth\":0,\"ticks\":\"\"},\"colorscale\":[[0.0,\"#0d0887\"],[0.1111111111111111,\"#46039f\"],[0.2222222222222222,\"#7201a8\"],[0.3333333333333333,\"#9c179e\"],[0.4444444444444444,\"#bd3786\"],[0.5555555555555556,\"#d8576b\"],[0.6666666666666666,\"#ed7953\"],[0.7777777777777778,\"#fb9f3a\"],[0.8888888888888888,\"#fdca26\"],[1.0,\"#f0f921\"]]}],\"heatmapgl\":[{\"type\":\"heatmapgl\",\"colorbar\":{\"outlinewidth\":0,\"ticks\":\"\"},\"colorscale\":[[0.0,\"#0d0887\"],[0.1111111111111111,\"#46039f\"],[0.2222222222222222,\"#7201a8\"],[0.3333333333333333,\"#9c179e\"],[0.4444444444444444,\"#bd3786\"],[0.5555555555555556,\"#d8576b\"],[0.6666666666666666,\"#ed7953\"],[0.7777777777777778,\"#fb9f3a\"],[0.8888888888888888,\"#fdca26\"],[1.0,\"#f0f921\"]]}],\"contourcarpet\":[{\"type\":\"contourcarpet\",\"colorbar\":{\"outlinewidth\":0,\"ticks\":\"\"}}],\"contour\":[{\"type\":\"contour\",\"colorbar\":{\"outlinewidth\":0,\"ticks\":\"\"},\"colorscale\":[[0.0,\"#0d0887\"],[0.1111111111111111,\"#46039f\"],[0.2222222222222222,\"#7201a8\"],[0.3333333333333333,\"#9c179e\"],[0.4444444444444444,\"#bd3786\"],[0.5555555555555556,\"#d8576b\"],[0.6666666666666666,\"#ed7953\"],[0.7777777777777778,\"#fb9f3a\"],[0.8888888888888888,\"#fdca26\"],[1.0,\"#f0f921\"]]}],\"surface\":[{\"type\":\"surface\",\"colorbar\":{\"outlinewidth\":0,\"ticks\":\"\"},\"colorscale\":[[0.0,\"#0d0887\"],[0.1111111111111111,\"#46039f\"],[0.2222222222222222,\"#7201a8\"],[0.3333333333333333,\"#9c179e\"],[0.4444444444444444,\"#bd3786\"],[0.5555555555555556,\"#d8576b\"],[0.6666666666666666,\"#ed7953\"],[0.7777777777777778,\"#fb9f3a\"],[0.8888888888888888,\"#fdca26\"],[1.0,\"#f0f921\"]]}],\"mesh3d\":[{\"type\":\"mesh3d\",\"colorbar\":{\"outlinewidth\":0,\"ticks\":\"\"}}],\"scatter\":[{\"fillpattern\":{\"fillmode\":\"overlay\",\"size\":10,\"solidity\":0.2},\"type\":\"scatter\"}],\"parcoords\":[{\"type\":\"parcoords\",\"line\":{\"colorbar\":{\"outlinewidth\":0,\"ticks\":\"\"}}}],\"scatterpolargl\":[{\"type\":\"scatterpolargl\",\"marker\":{\"colorbar\":{\"outlinewidth\":0,\"ticks\":\"\"}}}],\"bar\":[{\"error_x\":{\"color\":\"#2a3f5f\"},\"error_y\":{\"color\":\"#2a3f5f\"},\"marker\":{\"line\":{\"color\":\"#E5ECF6\",\"width\":0.5},\"pattern\":{\"fillmode\":\"overlay\",\"size\":10,\"solidity\":0.2}},\"type\":\"bar\"}],\"scattergeo\":[{\"type\":\"scattergeo\",\"marker\":{\"colorbar\":{\"outlinewidth\":0,\"ticks\":\"\"}}}],\"scatterpolar\":[{\"type\":\"scatterpolar\",\"marker\":{\"colorbar\":{\"outlinewidth\":0,\"ticks\":\"\"}}}],\"histogram\":[{\"marker\":{\"pattern\":{\"fillmode\":\"overlay\",\"size\":10,\"solidity\":0.2}},\"type\":\"histogram\"}],\"scattergl\":[{\"type\":\"scattergl\",\"marker\":{\"colorbar\":{\"outlinewidth\":0,\"ticks\":\"\"}}}],\"scatter3d\":[{\"type\":\"scatter3d\",\"line\":{\"colorbar\":{\"outlinewidth\":0,\"ticks\":\"\"}},\"marker\":{\"colorbar\":{\"outlinewidth\":0,\"ticks\":\"\"}}}],\"scattermapbox\":[{\"type\":\"scattermapbox\",\"marker\":{\"colorbar\":{\"outlinewidth\":0,\"ticks\":\"\"}}}],\"scatterternary\":[{\"type\":\"scatterternary\",\"marker\":{\"colorbar\":{\"outlinewidth\":0,\"ticks\":\"\"}}}],\"scattercarpet\":[{\"type\":\"scattercarpet\",\"marker\":{\"colorbar\":{\"outlinewidth\":0,\"ticks\":\"\"}}}],\"carpet\":[{\"aaxis\":{\"endlinecolor\":\"#2a3f5f\",\"gridcolor\":\"white\",\"linecolor\":\"white\",\"minorgridcolor\":\"white\",\"startlinecolor\":\"#2a3f5f\"},\"baxis\":{\"endlinecolor\":\"#2a3f5f\",\"gridcolor\":\"white\",\"linecolor\":\"white\",\"minorgridcolor\":\"white\",\"startlinecolor\":\"#2a3f5f\"},\"type\":\"carpet\"}],\"table\":[{\"cells\":{\"fill\":{\"color\":\"#EBF0F8\"},\"line\":{\"color\":\"white\"}},\"header\":{\"fill\":{\"color\":\"#C8D4E3\"},\"line\":{\"color\":\"white\"}},\"type\":\"table\"}],\"barpolar\":[{\"marker\":{\"line\":{\"color\":\"#E5ECF6\",\"width\":0.5},\"pattern\":{\"fillmode\":\"overlay\",\"size\":10,\"solidity\":0.2}},\"type\":\"barpolar\"}],\"pie\":[{\"automargin\":true,\"type\":\"pie\"}]},\"layout\":{\"autotypenumbers\":\"strict\",\"colorway\":[\"#636efa\",\"#EF553B\",\"#00cc96\",\"#ab63fa\",\"#FFA15A\",\"#19d3f3\",\"#FF6692\",\"#B6E880\",\"#FF97FF\",\"#FECB52\"],\"font\":{\"color\":\"#2a3f5f\"},\"hovermode\":\"closest\",\"hoverlabel\":{\"align\":\"left\"},\"paper_bgcolor\":\"white\",\"plot_bgcolor\":\"#E5ECF6\",\"polar\":{\"bgcolor\":\"#E5ECF6\",\"angularaxis\":{\"gridcolor\":\"white\",\"linecolor\":\"white\",\"ticks\":\"\"},\"radialaxis\":{\"gridcolor\":\"white\",\"linecolor\":\"white\",\"ticks\":\"\"}},\"ternary\":{\"bgcolor\":\"#E5ECF6\",\"aaxis\":{\"gridcolor\":\"white\",\"linecolor\":\"white\",\"ticks\":\"\"},\"baxis\":{\"gridcolor\":\"white\",\"linecolor\":\"white\",\"ticks\":\"\"},\"caxis\":{\"gridcolor\":\"white\",\"linecolor\":\"white\",\"ticks\":\"\"}},\"coloraxis\":{\"colorbar\":{\"outlinewidth\":0,\"ticks\":\"\"}},\"colorscale\":{\"sequential\":[[0.0,\"#0d0887\"],[0.1111111111111111,\"#46039f\"],[0.2222222222222222,\"#7201a8\"],[0.3333333333333333,\"#9c179e\"],[0.4444444444444444,\"#bd3786\"],[0.5555555555555556,\"#d8576b\"],[0.6666666666666666,\"#ed7953\"],[0.7777777777777778,\"#fb9f3a\"],[0.8888888888888888,\"#fdca26\"],[1.0,\"#f0f921\"]],\"sequentialminus\":[[0.0,\"#0d0887\"],[0.1111111111111111,\"#46039f\"],[0.2222222222222222,\"#7201a8\"],[0.3333333333333333,\"#9c179e\"],[0.4444444444444444,\"#bd3786\"],[0.5555555555555556,\"#d8576b\"],[0.6666666666666666,\"#ed7953\"],[0.7777777777777778,\"#fb9f3a\"],[0.8888888888888888,\"#fdca26\"],[1.0,\"#f0f921\"]],\"diverging\":[[0,\"#8e0152\"],[0.1,\"#c51b7d\"],[0.2,\"#de77ae\"],[0.3,\"#f1b6da\"],[0.4,\"#fde0ef\"],[0.5,\"#f7f7f7\"],[0.6,\"#e6f5d0\"],[0.7,\"#b8e186\"],[0.8,\"#7fbc41\"],[0.9,\"#4d9221\"],[1,\"#276419\"]]},\"xaxis\":{\"gridcolor\":\"white\",\"linecolor\":\"white\",\"ticks\":\"\",\"title\":{\"standoff\":15},\"zerolinecolor\":\"white\",\"automargin\":true,\"zerolinewidth\":2},\"yaxis\":{\"gridcolor\":\"white\",\"linecolor\":\"white\",\"ticks\":\"\",\"title\":{\"standoff\":15},\"zerolinecolor\":\"white\",\"automargin\":true,\"zerolinewidth\":2},\"scene\":{\"xaxis\":{\"backgroundcolor\":\"#E5ECF6\",\"gridcolor\":\"white\",\"linecolor\":\"white\",\"showbackground\":true,\"ticks\":\"\",\"zerolinecolor\":\"white\",\"gridwidth\":2},\"yaxis\":{\"backgroundcolor\":\"#E5ECF6\",\"gridcolor\":\"white\",\"linecolor\":\"white\",\"showbackground\":true,\"ticks\":\"\",\"zerolinecolor\":\"white\",\"gridwidth\":2},\"zaxis\":{\"backgroundcolor\":\"#E5ECF6\",\"gridcolor\":\"white\",\"linecolor\":\"white\",\"showbackground\":true,\"ticks\":\"\",\"zerolinecolor\":\"white\",\"gridwidth\":2}},\"shapedefaults\":{\"line\":{\"color\":\"#2a3f5f\"}},\"annotationdefaults\":{\"arrowcolor\":\"#2a3f5f\",\"arrowhead\":0,\"arrowwidth\":1},\"geo\":{\"bgcolor\":\"white\",\"landcolor\":\"#E5ECF6\",\"subunitcolor\":\"white\",\"showland\":true,\"showlakes\":true,\"lakecolor\":\"white\"},\"title\":{\"x\":0.05},\"mapbox\":{\"style\":\"light\"}}},\"geo\":{\"domain\":{\"x\":[0.0,1.0],\"y\":[0.0,1.0]},\"projection\":{\"type\":\"natural earth\"},\"center\":{}},\"legend\":{\"title\":{\"text\":\"ip_address\"},\"tracegroupgap\":0},\"title\":{\"text\":\"Geomap using Plotly\"}},                        {\"responsive\": true}                    ).then(function(){\n",
       "                            \n",
       "var gd = document.getElementById('642b6ac1-3dd2-4718-bcb3-67a9e040597e');\n",
       "var x = new MutationObserver(function (mutations, observer) {{\n",
       "        var display = window.getComputedStyle(gd).display;\n",
       "        if (!display || display === 'none') {{\n",
       "            console.log([gd, 'removed!']);\n",
       "            Plotly.purge(gd);\n",
       "            observer.disconnect();\n",
       "        }}\n",
       "}});\n",
       "\n",
       "// Listen for the removal of the full notebook cells\n",
       "var notebookContainer = gd.closest('#notebook-container');\n",
       "if (notebookContainer) {{\n",
       "    x.observe(notebookContainer, {childList: true});\n",
       "}}\n",
       "\n",
       "// Listen for the clearing of the current output cell\n",
       "var outputEl = gd.closest('.output');\n",
       "if (outputEl) {{\n",
       "    x.observe(outputEl, {childList: true});\n",
       "}}\n",
       "\n",
       "                        })                };                });            </script>        </div>"
      ]
     },
     "metadata": {},
     "output_type": "display_data"
    }
   ],
   "source": [
    "fig"
   ]
  },
  {
   "cell_type": "code",
   "execution_count": null,
   "id": "2b26a284-55e2-4353-8c51-3c3822e4ca38",
   "metadata": {},
   "outputs": [],
   "source": []
  }
 ],
 "metadata": {
  "kernelspec": {
   "display_name": "Python 3 (ipykernel)",
   "language": "python",
   "name": "python3"
  },
  "language_info": {
   "codemirror_mode": {
    "name": "ipython",
    "version": 3
   },
   "file_extension": ".py",
   "mimetype": "text/x-python",
   "name": "python",
   "nbconvert_exporter": "python",
   "pygments_lexer": "ipython3",
   "version": "3.11.4"
  }
 },
 "nbformat": 4,
 "nbformat_minor": 5
}
